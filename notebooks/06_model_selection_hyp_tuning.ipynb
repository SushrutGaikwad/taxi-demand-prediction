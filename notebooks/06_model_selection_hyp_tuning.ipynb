{
 "cells": [
  {
   "cell_type": "markdown",
   "id": "ea630f01-5a98-4763-9211-c2b65abbd227",
   "metadata": {},
   "source": [
    "# Importing the packages"
   ]
  },
  {
   "cell_type": "code",
   "execution_count": 1,
   "id": "7e662ad4-c2d0-4884-a578-8c928f62d383",
   "metadata": {},
   "outputs": [],
   "source": [
    "import tqdm\n",
    "import optuna\n",
    "import mlflow\n",
    "import dagshub\n",
    "import numpy as np\n",
    "import pandas as pd\n",
    "\n",
    "from xgboost import XGBRegressor\n",
    "from sklearn import set_config\n",
    "from sklearn.svm import SVR\n",
    "from sklearn.pipeline import Pipeline\n",
    "from sklearn.compose import ColumnTransformer\n",
    "from sklearn.preprocessing import OneHotEncoder\n",
    "from sklearn.linear_model import LinearRegression, Ridge\n",
    "from sklearn.metrics import mean_absolute_percentage_error\n",
    "from sklearn.ensemble import RandomForestRegressor, GradientBoostingRegressor\n",
    "\n",
    "set_config(transform_output=\"pandas\")"
   ]
  },
  {
   "cell_type": "code",
   "execution_count": 2,
   "id": "b9416d72-be0f-48a3-9c83-92eba692522d",
   "metadata": {},
   "outputs": [
    {
     "data": {
      "text/html": [
       "<pre style=\"white-space:pre;overflow-x:auto;line-height:normal;font-family:Menlo,'DejaVu Sans Mono',consolas,'Courier New',monospace\">Accessing as SushrutGaikwad\n",
       "</pre>\n"
      ],
      "text/plain": [
       "Accessing as SushrutGaikwad\n"
      ]
     },
     "metadata": {},
     "output_type": "display_data"
    },
    {
     "data": {
      "text/html": [
       "<pre style=\"white-space:pre;overflow-x:auto;line-height:normal;font-family:Menlo,'DejaVu Sans Mono',consolas,'Courier New',monospace\">Initialized MLflow to track repo <span style=\"color: #008000; text-decoration-color: #008000\">\"SushrutGaikwad/taxi-demand-prediction\"</span>\n",
       "</pre>\n"
      ],
      "text/plain": [
       "Initialized MLflow to track repo \u001b[32m\"SushrutGaikwad/taxi-demand-prediction\"\u001b[0m\n"
      ]
     },
     "metadata": {},
     "output_type": "display_data"
    },
    {
     "data": {
      "text/html": [
       "<pre style=\"white-space:pre;overflow-x:auto;line-height:normal;font-family:Menlo,'DejaVu Sans Mono',consolas,'Courier New',monospace\">Repository SushrutGaikwad/taxi-demand-prediction initialized!\n",
       "</pre>\n"
      ],
      "text/plain": [
       "Repository SushrutGaikwad/taxi-demand-prediction initialized!\n"
      ]
     },
     "metadata": {},
     "output_type": "display_data"
    }
   ],
   "source": [
    "# MLFlow and DagsHub\n",
    "\n",
    "mlflow.set_tracking_uri(\"https://dagshub.com/SushrutGaikwad/taxi-demand-prediction.mlflow\")\n",
    "dagshub.init(repo_owner='SushrutGaikwad', repo_name='taxi-demand-prediction', mlflow=True)"
   ]
  },
  {
   "cell_type": "markdown",
   "id": "93f07aae-bcf7-4018-ab5b-4211556f1769",
   "metadata": {},
   "source": [
    "# Loading the data"
   ]
  },
  {
   "cell_type": "code",
   "execution_count": 3,
   "id": "4de1ee5b-2793-4814-9455-256ec0a1d93b",
   "metadata": {},
   "outputs": [],
   "source": [
    "TRAIN_DATA_PATH = \"../data/processed/train.csv\"\n",
    "TEST_DATA_PATH = \"../data/processed/test.csv\"\n",
    "\n",
    "train_df = pd.read_csv(TRAIN_DATA_PATH, parse_dates=[\"tpep_pickup_datetime\"]).set_index(\"tpep_pickup_datetime\")\n",
    "test_df = pd.read_csv(TEST_DATA_PATH, parse_dates=[\"tpep_pickup_datetime\"]).set_index(\"tpep_pickup_datetime\")"
   ]
  },
  {
   "cell_type": "code",
   "execution_count": 4,
   "id": "fb57343d-3ac3-4ddc-9503-dde3e1740a94",
   "metadata": {},
   "outputs": [
    {
     "data": {
      "text/html": [
       "<div>\n",
       "<style scoped>\n",
       "    .dataframe tbody tr th:only-of-type {\n",
       "        vertical-align: middle;\n",
       "    }\n",
       "\n",
       "    .dataframe tbody tr th {\n",
       "        vertical-align: top;\n",
       "    }\n",
       "\n",
       "    .dataframe thead th {\n",
       "        text-align: right;\n",
       "    }\n",
       "</style>\n",
       "<table border=\"1\" class=\"dataframe\">\n",
       "  <thead>\n",
       "    <tr style=\"text-align: right;\">\n",
       "      <th></th>\n",
       "      <th>lag_1</th>\n",
       "      <th>lag_2</th>\n",
       "      <th>lag_3</th>\n",
       "      <th>lag_4</th>\n",
       "      <th>region</th>\n",
       "      <th>total_pickups</th>\n",
       "      <th>avg_pickups</th>\n",
       "      <th>day_of_week</th>\n",
       "    </tr>\n",
       "    <tr>\n",
       "      <th>tpep_pickup_datetime</th>\n",
       "      <th></th>\n",
       "      <th></th>\n",
       "      <th></th>\n",
       "      <th></th>\n",
       "      <th></th>\n",
       "      <th></th>\n",
       "      <th></th>\n",
       "      <th></th>\n",
       "    </tr>\n",
       "  </thead>\n",
       "  <tbody>\n",
       "    <tr>\n",
       "      <th>2016-01-01 01:00:00</th>\n",
       "      <td>160.0</td>\n",
       "      <td>149.0</td>\n",
       "      <td>120.0</td>\n",
       "      <td>58.0</td>\n",
       "      <td>0</td>\n",
       "      <td>187</td>\n",
       "      <td>161.0</td>\n",
       "      <td>4</td>\n",
       "    </tr>\n",
       "    <tr>\n",
       "      <th>2016-01-01 01:15:00</th>\n",
       "      <td>187.0</td>\n",
       "      <td>160.0</td>\n",
       "      <td>149.0</td>\n",
       "      <td>120.0</td>\n",
       "      <td>0</td>\n",
       "      <td>194</td>\n",
       "      <td>175.0</td>\n",
       "      <td>4</td>\n",
       "    </tr>\n",
       "    <tr>\n",
       "      <th>2016-01-01 01:30:00</th>\n",
       "      <td>194.0</td>\n",
       "      <td>187.0</td>\n",
       "      <td>160.0</td>\n",
       "      <td>149.0</td>\n",
       "      <td>0</td>\n",
       "      <td>180</td>\n",
       "      <td>177.0</td>\n",
       "      <td>4</td>\n",
       "    </tr>\n",
       "    <tr>\n",
       "      <th>2016-01-01 01:45:00</th>\n",
       "      <td>180.0</td>\n",
       "      <td>194.0</td>\n",
       "      <td>187.0</td>\n",
       "      <td>160.0</td>\n",
       "      <td>0</td>\n",
       "      <td>197</td>\n",
       "      <td>185.0</td>\n",
       "      <td>4</td>\n",
       "    </tr>\n",
       "    <tr>\n",
       "      <th>2016-01-01 02:00:00</th>\n",
       "      <td>197.0</td>\n",
       "      <td>180.0</td>\n",
       "      <td>194.0</td>\n",
       "      <td>187.0</td>\n",
       "      <td>0</td>\n",
       "      <td>185</td>\n",
       "      <td>185.0</td>\n",
       "      <td>4</td>\n",
       "    </tr>\n",
       "    <tr>\n",
       "      <th>...</th>\n",
       "      <td>...</td>\n",
       "      <td>...</td>\n",
       "      <td>...</td>\n",
       "      <td>...</td>\n",
       "      <td>...</td>\n",
       "      <td>...</td>\n",
       "      <td>...</td>\n",
       "      <td>...</td>\n",
       "    </tr>\n",
       "    <tr>\n",
       "      <th>2016-02-29 22:45:00</th>\n",
       "      <td>15.0</td>\n",
       "      <td>9.0</td>\n",
       "      <td>11.0</td>\n",
       "      <td>11.0</td>\n",
       "      <td>29</td>\n",
       "      <td>12</td>\n",
       "      <td>12.0</td>\n",
       "      <td>0</td>\n",
       "    </tr>\n",
       "    <tr>\n",
       "      <th>2016-02-29 23:00:00</th>\n",
       "      <td>12.0</td>\n",
       "      <td>15.0</td>\n",
       "      <td>9.0</td>\n",
       "      <td>11.0</td>\n",
       "      <td>29</td>\n",
       "      <td>17</td>\n",
       "      <td>14.0</td>\n",
       "      <td>0</td>\n",
       "    </tr>\n",
       "    <tr>\n",
       "      <th>2016-02-29 23:15:00</th>\n",
       "      <td>17.0</td>\n",
       "      <td>12.0</td>\n",
       "      <td>15.0</td>\n",
       "      <td>9.0</td>\n",
       "      <td>29</td>\n",
       "      <td>15</td>\n",
       "      <td>14.0</td>\n",
       "      <td>0</td>\n",
       "    </tr>\n",
       "    <tr>\n",
       "      <th>2016-02-29 23:30:00</th>\n",
       "      <td>15.0</td>\n",
       "      <td>17.0</td>\n",
       "      <td>12.0</td>\n",
       "      <td>15.0</td>\n",
       "      <td>29</td>\n",
       "      <td>15</td>\n",
       "      <td>15.0</td>\n",
       "      <td>0</td>\n",
       "    </tr>\n",
       "    <tr>\n",
       "      <th>2016-02-29 23:45:00</th>\n",
       "      <td>15.0</td>\n",
       "      <td>15.0</td>\n",
       "      <td>17.0</td>\n",
       "      <td>12.0</td>\n",
       "      <td>29</td>\n",
       "      <td>12</td>\n",
       "      <td>14.0</td>\n",
       "      <td>0</td>\n",
       "    </tr>\n",
       "  </tbody>\n",
       "</table>\n",
       "<p>172680 rows × 8 columns</p>\n",
       "</div>"
      ],
      "text/plain": [
       "                      lag_1  lag_2  lag_3  lag_4  region  total_pickups  \\\n",
       "tpep_pickup_datetime                                                      \n",
       "2016-01-01 01:00:00   160.0  149.0  120.0   58.0       0            187   \n",
       "2016-01-01 01:15:00   187.0  160.0  149.0  120.0       0            194   \n",
       "2016-01-01 01:30:00   194.0  187.0  160.0  149.0       0            180   \n",
       "2016-01-01 01:45:00   180.0  194.0  187.0  160.0       0            197   \n",
       "2016-01-01 02:00:00   197.0  180.0  194.0  187.0       0            185   \n",
       "...                     ...    ...    ...    ...     ...            ...   \n",
       "2016-02-29 22:45:00    15.0    9.0   11.0   11.0      29             12   \n",
       "2016-02-29 23:00:00    12.0   15.0    9.0   11.0      29             17   \n",
       "2016-02-29 23:15:00    17.0   12.0   15.0    9.0      29             15   \n",
       "2016-02-29 23:30:00    15.0   17.0   12.0   15.0      29             15   \n",
       "2016-02-29 23:45:00    15.0   15.0   17.0   12.0      29             12   \n",
       "\n",
       "                      avg_pickups  day_of_week  \n",
       "tpep_pickup_datetime                            \n",
       "2016-01-01 01:00:00         161.0            4  \n",
       "2016-01-01 01:15:00         175.0            4  \n",
       "2016-01-01 01:30:00         177.0            4  \n",
       "2016-01-01 01:45:00         185.0            4  \n",
       "2016-01-01 02:00:00         185.0            4  \n",
       "...                           ...          ...  \n",
       "2016-02-29 22:45:00          12.0            0  \n",
       "2016-02-29 23:00:00          14.0            0  \n",
       "2016-02-29 23:15:00          14.0            0  \n",
       "2016-02-29 23:30:00          15.0            0  \n",
       "2016-02-29 23:45:00          14.0            0  \n",
       "\n",
       "[172680 rows x 8 columns]"
      ]
     },
     "execution_count": 4,
     "metadata": {},
     "output_type": "execute_result"
    }
   ],
   "source": [
    "train_df"
   ]
  },
  {
   "cell_type": "code",
   "execution_count": 5,
   "id": "ae58b0bf-583b-475f-bee5-f79afe015634",
   "metadata": {},
   "outputs": [
    {
     "data": {
      "text/html": [
       "<div>\n",
       "<style scoped>\n",
       "    .dataframe tbody tr th:only-of-type {\n",
       "        vertical-align: middle;\n",
       "    }\n",
       "\n",
       "    .dataframe tbody tr th {\n",
       "        vertical-align: top;\n",
       "    }\n",
       "\n",
       "    .dataframe thead th {\n",
       "        text-align: right;\n",
       "    }\n",
       "</style>\n",
       "<table border=\"1\" class=\"dataframe\">\n",
       "  <thead>\n",
       "    <tr style=\"text-align: right;\">\n",
       "      <th></th>\n",
       "      <th>lag_1</th>\n",
       "      <th>lag_2</th>\n",
       "      <th>lag_3</th>\n",
       "      <th>lag_4</th>\n",
       "      <th>region</th>\n",
       "      <th>total_pickups</th>\n",
       "      <th>avg_pickups</th>\n",
       "      <th>day_of_week</th>\n",
       "    </tr>\n",
       "    <tr>\n",
       "      <th>tpep_pickup_datetime</th>\n",
       "      <th></th>\n",
       "      <th></th>\n",
       "      <th></th>\n",
       "      <th></th>\n",
       "      <th></th>\n",
       "      <th></th>\n",
       "      <th></th>\n",
       "      <th></th>\n",
       "    </tr>\n",
       "  </thead>\n",
       "  <tbody>\n",
       "    <tr>\n",
       "      <th>2016-03-01 00:00:00</th>\n",
       "      <td>36.0</td>\n",
       "      <td>44.0</td>\n",
       "      <td>31.0</td>\n",
       "      <td>29.0</td>\n",
       "      <td>0</td>\n",
       "      <td>41</td>\n",
       "      <td>39.0</td>\n",
       "      <td>1</td>\n",
       "    </tr>\n",
       "    <tr>\n",
       "      <th>2016-03-01 00:15:00</th>\n",
       "      <td>41.0</td>\n",
       "      <td>36.0</td>\n",
       "      <td>44.0</td>\n",
       "      <td>31.0</td>\n",
       "      <td>0</td>\n",
       "      <td>35</td>\n",
       "      <td>37.0</td>\n",
       "      <td>1</td>\n",
       "    </tr>\n",
       "    <tr>\n",
       "      <th>2016-03-01 00:30:00</th>\n",
       "      <td>35.0</td>\n",
       "      <td>41.0</td>\n",
       "      <td>36.0</td>\n",
       "      <td>44.0</td>\n",
       "      <td>0</td>\n",
       "      <td>47</td>\n",
       "      <td>41.0</td>\n",
       "      <td>1</td>\n",
       "    </tr>\n",
       "    <tr>\n",
       "      <th>2016-03-01 00:45:00</th>\n",
       "      <td>47.0</td>\n",
       "      <td>35.0</td>\n",
       "      <td>41.0</td>\n",
       "      <td>36.0</td>\n",
       "      <td>0</td>\n",
       "      <td>34</td>\n",
       "      <td>38.0</td>\n",
       "      <td>1</td>\n",
       "    </tr>\n",
       "    <tr>\n",
       "      <th>2016-03-01 01:00:00</th>\n",
       "      <td>34.0</td>\n",
       "      <td>47.0</td>\n",
       "      <td>35.0</td>\n",
       "      <td>41.0</td>\n",
       "      <td>0</td>\n",
       "      <td>30</td>\n",
       "      <td>35.0</td>\n",
       "      <td>1</td>\n",
       "    </tr>\n",
       "    <tr>\n",
       "      <th>...</th>\n",
       "      <td>...</td>\n",
       "      <td>...</td>\n",
       "      <td>...</td>\n",
       "      <td>...</td>\n",
       "      <td>...</td>\n",
       "      <td>...</td>\n",
       "      <td>...</td>\n",
       "      <td>...</td>\n",
       "    </tr>\n",
       "    <tr>\n",
       "      <th>2016-03-31 22:45:00</th>\n",
       "      <td>22.0</td>\n",
       "      <td>14.0</td>\n",
       "      <td>15.0</td>\n",
       "      <td>13.0</td>\n",
       "      <td>29</td>\n",
       "      <td>14</td>\n",
       "      <td>16.0</td>\n",
       "      <td>3</td>\n",
       "    </tr>\n",
       "    <tr>\n",
       "      <th>2016-03-31 23:00:00</th>\n",
       "      <td>14.0</td>\n",
       "      <td>22.0</td>\n",
       "      <td>14.0</td>\n",
       "      <td>15.0</td>\n",
       "      <td>29</td>\n",
       "      <td>17</td>\n",
       "      <td>16.0</td>\n",
       "      <td>3</td>\n",
       "    </tr>\n",
       "    <tr>\n",
       "      <th>2016-03-31 23:15:00</th>\n",
       "      <td>17.0</td>\n",
       "      <td>14.0</td>\n",
       "      <td>22.0</td>\n",
       "      <td>14.0</td>\n",
       "      <td>29</td>\n",
       "      <td>18</td>\n",
       "      <td>17.0</td>\n",
       "      <td>3</td>\n",
       "    </tr>\n",
       "    <tr>\n",
       "      <th>2016-03-31 23:30:00</th>\n",
       "      <td>18.0</td>\n",
       "      <td>17.0</td>\n",
       "      <td>14.0</td>\n",
       "      <td>22.0</td>\n",
       "      <td>29</td>\n",
       "      <td>13</td>\n",
       "      <td>15.0</td>\n",
       "      <td>3</td>\n",
       "    </tr>\n",
       "    <tr>\n",
       "      <th>2016-03-31 23:45:00</th>\n",
       "      <td>13.0</td>\n",
       "      <td>18.0</td>\n",
       "      <td>17.0</td>\n",
       "      <td>14.0</td>\n",
       "      <td>29</td>\n",
       "      <td>14</td>\n",
       "      <td>15.0</td>\n",
       "      <td>3</td>\n",
       "    </tr>\n",
       "  </tbody>\n",
       "</table>\n",
       "<p>89280 rows × 8 columns</p>\n",
       "</div>"
      ],
      "text/plain": [
       "                      lag_1  lag_2  lag_3  lag_4  region  total_pickups  \\\n",
       "tpep_pickup_datetime                                                      \n",
       "2016-03-01 00:00:00    36.0   44.0   31.0   29.0       0             41   \n",
       "2016-03-01 00:15:00    41.0   36.0   44.0   31.0       0             35   \n",
       "2016-03-01 00:30:00    35.0   41.0   36.0   44.0       0             47   \n",
       "2016-03-01 00:45:00    47.0   35.0   41.0   36.0       0             34   \n",
       "2016-03-01 01:00:00    34.0   47.0   35.0   41.0       0             30   \n",
       "...                     ...    ...    ...    ...     ...            ...   \n",
       "2016-03-31 22:45:00    22.0   14.0   15.0   13.0      29             14   \n",
       "2016-03-31 23:00:00    14.0   22.0   14.0   15.0      29             17   \n",
       "2016-03-31 23:15:00    17.0   14.0   22.0   14.0      29             18   \n",
       "2016-03-31 23:30:00    18.0   17.0   14.0   22.0      29             13   \n",
       "2016-03-31 23:45:00    13.0   18.0   17.0   14.0      29             14   \n",
       "\n",
       "                      avg_pickups  day_of_week  \n",
       "tpep_pickup_datetime                            \n",
       "2016-03-01 00:00:00          39.0            1  \n",
       "2016-03-01 00:15:00          37.0            1  \n",
       "2016-03-01 00:30:00          41.0            1  \n",
       "2016-03-01 00:45:00          38.0            1  \n",
       "2016-03-01 01:00:00          35.0            1  \n",
       "...                           ...          ...  \n",
       "2016-03-31 22:45:00          16.0            3  \n",
       "2016-03-31 23:00:00          16.0            3  \n",
       "2016-03-31 23:15:00          17.0            3  \n",
       "2016-03-31 23:30:00          15.0            3  \n",
       "2016-03-31 23:45:00          15.0            3  \n",
       "\n",
       "[89280 rows x 8 columns]"
      ]
     },
     "execution_count": 5,
     "metadata": {},
     "output_type": "execute_result"
    }
   ],
   "source": [
    "test_df"
   ]
  },
  {
   "cell_type": "markdown",
   "id": "3736e25b-7703-4653-9533-da92efcd9b15",
   "metadata": {},
   "source": [
    "## Checking for missing values"
   ]
  },
  {
   "cell_type": "code",
   "execution_count": 6,
   "id": "01541ce8-181f-43af-be03-e697e1709287",
   "metadata": {},
   "outputs": [
    {
     "data": {
      "text/plain": [
       "lag_1            0\n",
       "lag_2            0\n",
       "lag_3            0\n",
       "lag_4            0\n",
       "region           0\n",
       "total_pickups    0\n",
       "avg_pickups      0\n",
       "day_of_week      0\n",
       "dtype: int64"
      ]
     },
     "execution_count": 6,
     "metadata": {},
     "output_type": "execute_result"
    }
   ],
   "source": [
    "train_df.isna().sum()"
   ]
  },
  {
   "cell_type": "code",
   "execution_count": 7,
   "id": "16f4cc88-65b2-45cd-a086-e15f0af38f82",
   "metadata": {},
   "outputs": [
    {
     "data": {
      "text/plain": [
       "lag_1            0\n",
       "lag_2            0\n",
       "lag_3            0\n",
       "lag_4            0\n",
       "region           0\n",
       "total_pickups    0\n",
       "avg_pickups      0\n",
       "day_of_week      0\n",
       "dtype: int64"
      ]
     },
     "execution_count": 7,
     "metadata": {},
     "output_type": "execute_result"
    }
   ],
   "source": [
    "test_df.isna().sum()"
   ]
  },
  {
   "cell_type": "markdown",
   "id": "275e4b84-752a-4628-9e0d-b4d49c8f0d73",
   "metadata": {},
   "source": [
    "# Input-output split"
   ]
  },
  {
   "cell_type": "code",
   "execution_count": 8,
   "id": "008de843-393f-47fe-8ef1-a5be32a9dc0f",
   "metadata": {},
   "outputs": [],
   "source": [
    "X_train = train_df.drop(columns=[\"total_pickups\"])\n",
    "y_train = train_df[\"total_pickups\"]\n",
    "\n",
    "X_test = test_df.drop(columns=[\"total_pickups\"])\n",
    "y_test = test_df[\"total_pickups\"]"
   ]
  },
  {
   "cell_type": "code",
   "execution_count": 9,
   "id": "ff60c2c9-00e8-4caf-9a64-ddd067c741f9",
   "metadata": {},
   "outputs": [
    {
     "data": {
      "text/html": [
       "<div>\n",
       "<style scoped>\n",
       "    .dataframe tbody tr th:only-of-type {\n",
       "        vertical-align: middle;\n",
       "    }\n",
       "\n",
       "    .dataframe tbody tr th {\n",
       "        vertical-align: top;\n",
       "    }\n",
       "\n",
       "    .dataframe thead th {\n",
       "        text-align: right;\n",
       "    }\n",
       "</style>\n",
       "<table border=\"1\" class=\"dataframe\">\n",
       "  <thead>\n",
       "    <tr style=\"text-align: right;\">\n",
       "      <th></th>\n",
       "      <th>lag_1</th>\n",
       "      <th>lag_2</th>\n",
       "      <th>lag_3</th>\n",
       "      <th>lag_4</th>\n",
       "      <th>region</th>\n",
       "      <th>avg_pickups</th>\n",
       "      <th>day_of_week</th>\n",
       "    </tr>\n",
       "    <tr>\n",
       "      <th>tpep_pickup_datetime</th>\n",
       "      <th></th>\n",
       "      <th></th>\n",
       "      <th></th>\n",
       "      <th></th>\n",
       "      <th></th>\n",
       "      <th></th>\n",
       "      <th></th>\n",
       "    </tr>\n",
       "  </thead>\n",
       "  <tbody>\n",
       "    <tr>\n",
       "      <th>2016-01-01 01:00:00</th>\n",
       "      <td>160.0</td>\n",
       "      <td>149.0</td>\n",
       "      <td>120.0</td>\n",
       "      <td>58.0</td>\n",
       "      <td>0</td>\n",
       "      <td>161.0</td>\n",
       "      <td>4</td>\n",
       "    </tr>\n",
       "    <tr>\n",
       "      <th>2016-01-01 01:15:00</th>\n",
       "      <td>187.0</td>\n",
       "      <td>160.0</td>\n",
       "      <td>149.0</td>\n",
       "      <td>120.0</td>\n",
       "      <td>0</td>\n",
       "      <td>175.0</td>\n",
       "      <td>4</td>\n",
       "    </tr>\n",
       "    <tr>\n",
       "      <th>2016-01-01 01:30:00</th>\n",
       "      <td>194.0</td>\n",
       "      <td>187.0</td>\n",
       "      <td>160.0</td>\n",
       "      <td>149.0</td>\n",
       "      <td>0</td>\n",
       "      <td>177.0</td>\n",
       "      <td>4</td>\n",
       "    </tr>\n",
       "    <tr>\n",
       "      <th>2016-01-01 01:45:00</th>\n",
       "      <td>180.0</td>\n",
       "      <td>194.0</td>\n",
       "      <td>187.0</td>\n",
       "      <td>160.0</td>\n",
       "      <td>0</td>\n",
       "      <td>185.0</td>\n",
       "      <td>4</td>\n",
       "    </tr>\n",
       "    <tr>\n",
       "      <th>2016-01-01 02:00:00</th>\n",
       "      <td>197.0</td>\n",
       "      <td>180.0</td>\n",
       "      <td>194.0</td>\n",
       "      <td>187.0</td>\n",
       "      <td>0</td>\n",
       "      <td>185.0</td>\n",
       "      <td>4</td>\n",
       "    </tr>\n",
       "  </tbody>\n",
       "</table>\n",
       "</div>"
      ],
      "text/plain": [
       "                      lag_1  lag_2  lag_3  lag_4  region  avg_pickups  \\\n",
       "tpep_pickup_datetime                                                    \n",
       "2016-01-01 01:00:00   160.0  149.0  120.0   58.0       0        161.0   \n",
       "2016-01-01 01:15:00   187.0  160.0  149.0  120.0       0        175.0   \n",
       "2016-01-01 01:30:00   194.0  187.0  160.0  149.0       0        177.0   \n",
       "2016-01-01 01:45:00   180.0  194.0  187.0  160.0       0        185.0   \n",
       "2016-01-01 02:00:00   197.0  180.0  194.0  187.0       0        185.0   \n",
       "\n",
       "                      day_of_week  \n",
       "tpep_pickup_datetime               \n",
       "2016-01-01 01:00:00             4  \n",
       "2016-01-01 01:15:00             4  \n",
       "2016-01-01 01:30:00             4  \n",
       "2016-01-01 01:45:00             4  \n",
       "2016-01-01 02:00:00             4  "
      ]
     },
     "execution_count": 9,
     "metadata": {},
     "output_type": "execute_result"
    }
   ],
   "source": [
    "X_train.head()"
   ]
  },
  {
   "cell_type": "code",
   "execution_count": 10,
   "id": "259aa13c-9e66-4e56-8a33-6bd677a9fc97",
   "metadata": {},
   "outputs": [
    {
     "data": {
      "text/plain": [
       "tpep_pickup_datetime\n",
       "2016-01-01 01:00:00    187\n",
       "2016-01-01 01:15:00    194\n",
       "2016-01-01 01:30:00    180\n",
       "2016-01-01 01:45:00    197\n",
       "2016-01-01 02:00:00    185\n",
       "Name: total_pickups, dtype: int64"
      ]
     },
     "execution_count": 10,
     "metadata": {},
     "output_type": "execute_result"
    }
   ],
   "source": [
    "y_train.head()"
   ]
  },
  {
   "cell_type": "code",
   "execution_count": 11,
   "id": "de6e3a63-d523-44cc-8fd8-a8fe69d2a2b5",
   "metadata": {},
   "outputs": [
    {
     "data": {
      "text/html": [
       "<div>\n",
       "<style scoped>\n",
       "    .dataframe tbody tr th:only-of-type {\n",
       "        vertical-align: middle;\n",
       "    }\n",
       "\n",
       "    .dataframe tbody tr th {\n",
       "        vertical-align: top;\n",
       "    }\n",
       "\n",
       "    .dataframe thead th {\n",
       "        text-align: right;\n",
       "    }\n",
       "</style>\n",
       "<table border=\"1\" class=\"dataframe\">\n",
       "  <thead>\n",
       "    <tr style=\"text-align: right;\">\n",
       "      <th></th>\n",
       "      <th>lag_1</th>\n",
       "      <th>lag_2</th>\n",
       "      <th>lag_3</th>\n",
       "      <th>lag_4</th>\n",
       "      <th>region</th>\n",
       "      <th>avg_pickups</th>\n",
       "      <th>day_of_week</th>\n",
       "    </tr>\n",
       "    <tr>\n",
       "      <th>tpep_pickup_datetime</th>\n",
       "      <th></th>\n",
       "      <th></th>\n",
       "      <th></th>\n",
       "      <th></th>\n",
       "      <th></th>\n",
       "      <th></th>\n",
       "      <th></th>\n",
       "    </tr>\n",
       "  </thead>\n",
       "  <tbody>\n",
       "    <tr>\n",
       "      <th>2016-03-01 00:00:00</th>\n",
       "      <td>36.0</td>\n",
       "      <td>44.0</td>\n",
       "      <td>31.0</td>\n",
       "      <td>29.0</td>\n",
       "      <td>0</td>\n",
       "      <td>39.0</td>\n",
       "      <td>1</td>\n",
       "    </tr>\n",
       "    <tr>\n",
       "      <th>2016-03-01 00:15:00</th>\n",
       "      <td>41.0</td>\n",
       "      <td>36.0</td>\n",
       "      <td>44.0</td>\n",
       "      <td>31.0</td>\n",
       "      <td>0</td>\n",
       "      <td>37.0</td>\n",
       "      <td>1</td>\n",
       "    </tr>\n",
       "    <tr>\n",
       "      <th>2016-03-01 00:30:00</th>\n",
       "      <td>35.0</td>\n",
       "      <td>41.0</td>\n",
       "      <td>36.0</td>\n",
       "      <td>44.0</td>\n",
       "      <td>0</td>\n",
       "      <td>41.0</td>\n",
       "      <td>1</td>\n",
       "    </tr>\n",
       "    <tr>\n",
       "      <th>2016-03-01 00:45:00</th>\n",
       "      <td>47.0</td>\n",
       "      <td>35.0</td>\n",
       "      <td>41.0</td>\n",
       "      <td>36.0</td>\n",
       "      <td>0</td>\n",
       "      <td>38.0</td>\n",
       "      <td>1</td>\n",
       "    </tr>\n",
       "    <tr>\n",
       "      <th>2016-03-01 01:00:00</th>\n",
       "      <td>34.0</td>\n",
       "      <td>47.0</td>\n",
       "      <td>35.0</td>\n",
       "      <td>41.0</td>\n",
       "      <td>0</td>\n",
       "      <td>35.0</td>\n",
       "      <td>1</td>\n",
       "    </tr>\n",
       "  </tbody>\n",
       "</table>\n",
       "</div>"
      ],
      "text/plain": [
       "                      lag_1  lag_2  lag_3  lag_4  region  avg_pickups  \\\n",
       "tpep_pickup_datetime                                                    \n",
       "2016-03-01 00:00:00    36.0   44.0   31.0   29.0       0         39.0   \n",
       "2016-03-01 00:15:00    41.0   36.0   44.0   31.0       0         37.0   \n",
       "2016-03-01 00:30:00    35.0   41.0   36.0   44.0       0         41.0   \n",
       "2016-03-01 00:45:00    47.0   35.0   41.0   36.0       0         38.0   \n",
       "2016-03-01 01:00:00    34.0   47.0   35.0   41.0       0         35.0   \n",
       "\n",
       "                      day_of_week  \n",
       "tpep_pickup_datetime               \n",
       "2016-03-01 00:00:00             1  \n",
       "2016-03-01 00:15:00             1  \n",
       "2016-03-01 00:30:00             1  \n",
       "2016-03-01 00:45:00             1  \n",
       "2016-03-01 01:00:00             1  "
      ]
     },
     "execution_count": 11,
     "metadata": {},
     "output_type": "execute_result"
    }
   ],
   "source": [
    "X_test.head()"
   ]
  },
  {
   "cell_type": "code",
   "execution_count": 12,
   "id": "dd082ecd-042a-4c3f-8b98-b658fe96c109",
   "metadata": {},
   "outputs": [
    {
     "data": {
      "text/plain": [
       "tpep_pickup_datetime\n",
       "2016-03-01 00:00:00    41\n",
       "2016-03-01 00:15:00    35\n",
       "2016-03-01 00:30:00    47\n",
       "2016-03-01 00:45:00    34\n",
       "2016-03-01 01:00:00    30\n",
       "Name: total_pickups, dtype: int64"
      ]
     },
     "execution_count": 12,
     "metadata": {},
     "output_type": "execute_result"
    }
   ],
   "source": [
    "y_test.head()"
   ]
  },
  {
   "cell_type": "markdown",
   "id": "61d5afa8-ab13-4ffd-bb4a-13a3f525e873",
   "metadata": {},
   "source": [
    "# Encoding"
   ]
  },
  {
   "cell_type": "code",
   "execution_count": 13,
   "id": "ad412c13-8120-4a61-b88a-7aebaefcb3f4",
   "metadata": {},
   "outputs": [
    {
     "data": {
      "text/html": [
       "<style>#sk-container-id-1 {\n",
       "  /* Definition of color scheme common for light and dark mode */\n",
       "  --sklearn-color-text: #000;\n",
       "  --sklearn-color-text-muted: #666;\n",
       "  --sklearn-color-line: gray;\n",
       "  /* Definition of color scheme for unfitted estimators */\n",
       "  --sklearn-color-unfitted-level-0: #fff5e6;\n",
       "  --sklearn-color-unfitted-level-1: #f6e4d2;\n",
       "  --sklearn-color-unfitted-level-2: #ffe0b3;\n",
       "  --sklearn-color-unfitted-level-3: chocolate;\n",
       "  /* Definition of color scheme for fitted estimators */\n",
       "  --sklearn-color-fitted-level-0: #f0f8ff;\n",
       "  --sklearn-color-fitted-level-1: #d4ebff;\n",
       "  --sklearn-color-fitted-level-2: #b3dbfd;\n",
       "  --sklearn-color-fitted-level-3: cornflowerblue;\n",
       "\n",
       "  /* Specific color for light theme */\n",
       "  --sklearn-color-text-on-default-background: var(--sg-text-color, var(--theme-code-foreground, var(--jp-content-font-color1, black)));\n",
       "  --sklearn-color-background: var(--sg-background-color, var(--theme-background, var(--jp-layout-color0, white)));\n",
       "  --sklearn-color-border-box: var(--sg-text-color, var(--theme-code-foreground, var(--jp-content-font-color1, black)));\n",
       "  --sklearn-color-icon: #696969;\n",
       "\n",
       "  @media (prefers-color-scheme: dark) {\n",
       "    /* Redefinition of color scheme for dark theme */\n",
       "    --sklearn-color-text-on-default-background: var(--sg-text-color, var(--theme-code-foreground, var(--jp-content-font-color1, white)));\n",
       "    --sklearn-color-background: var(--sg-background-color, var(--theme-background, var(--jp-layout-color0, #111)));\n",
       "    --sklearn-color-border-box: var(--sg-text-color, var(--theme-code-foreground, var(--jp-content-font-color1, white)));\n",
       "    --sklearn-color-icon: #878787;\n",
       "  }\n",
       "}\n",
       "\n",
       "#sk-container-id-1 {\n",
       "  color: var(--sklearn-color-text);\n",
       "}\n",
       "\n",
       "#sk-container-id-1 pre {\n",
       "  padding: 0;\n",
       "}\n",
       "\n",
       "#sk-container-id-1 input.sk-hidden--visually {\n",
       "  border: 0;\n",
       "  clip: rect(1px 1px 1px 1px);\n",
       "  clip: rect(1px, 1px, 1px, 1px);\n",
       "  height: 1px;\n",
       "  margin: -1px;\n",
       "  overflow: hidden;\n",
       "  padding: 0;\n",
       "  position: absolute;\n",
       "  width: 1px;\n",
       "}\n",
       "\n",
       "#sk-container-id-1 div.sk-dashed-wrapped {\n",
       "  border: 1px dashed var(--sklearn-color-line);\n",
       "  margin: 0 0.4em 0.5em 0.4em;\n",
       "  box-sizing: border-box;\n",
       "  padding-bottom: 0.4em;\n",
       "  background-color: var(--sklearn-color-background);\n",
       "}\n",
       "\n",
       "#sk-container-id-1 div.sk-container {\n",
       "  /* jupyter's `normalize.less` sets `[hidden] { display: none; }`\n",
       "     but bootstrap.min.css set `[hidden] { display: none !important; }`\n",
       "     so we also need the `!important` here to be able to override the\n",
       "     default hidden behavior on the sphinx rendered scikit-learn.org.\n",
       "     See: https://github.com/scikit-learn/scikit-learn/issues/21755 */\n",
       "  display: inline-block !important;\n",
       "  position: relative;\n",
       "}\n",
       "\n",
       "#sk-container-id-1 div.sk-text-repr-fallback {\n",
       "  display: none;\n",
       "}\n",
       "\n",
       "div.sk-parallel-item,\n",
       "div.sk-serial,\n",
       "div.sk-item {\n",
       "  /* draw centered vertical line to link estimators */\n",
       "  background-image: linear-gradient(var(--sklearn-color-text-on-default-background), var(--sklearn-color-text-on-default-background));\n",
       "  background-size: 2px 100%;\n",
       "  background-repeat: no-repeat;\n",
       "  background-position: center center;\n",
       "}\n",
       "\n",
       "/* Parallel-specific style estimator block */\n",
       "\n",
       "#sk-container-id-1 div.sk-parallel-item::after {\n",
       "  content: \"\";\n",
       "  width: 100%;\n",
       "  border-bottom: 2px solid var(--sklearn-color-text-on-default-background);\n",
       "  flex-grow: 1;\n",
       "}\n",
       "\n",
       "#sk-container-id-1 div.sk-parallel {\n",
       "  display: flex;\n",
       "  align-items: stretch;\n",
       "  justify-content: center;\n",
       "  background-color: var(--sklearn-color-background);\n",
       "  position: relative;\n",
       "}\n",
       "\n",
       "#sk-container-id-1 div.sk-parallel-item {\n",
       "  display: flex;\n",
       "  flex-direction: column;\n",
       "}\n",
       "\n",
       "#sk-container-id-1 div.sk-parallel-item:first-child::after {\n",
       "  align-self: flex-end;\n",
       "  width: 50%;\n",
       "}\n",
       "\n",
       "#sk-container-id-1 div.sk-parallel-item:last-child::after {\n",
       "  align-self: flex-start;\n",
       "  width: 50%;\n",
       "}\n",
       "\n",
       "#sk-container-id-1 div.sk-parallel-item:only-child::after {\n",
       "  width: 0;\n",
       "}\n",
       "\n",
       "/* Serial-specific style estimator block */\n",
       "\n",
       "#sk-container-id-1 div.sk-serial {\n",
       "  display: flex;\n",
       "  flex-direction: column;\n",
       "  align-items: center;\n",
       "  background-color: var(--sklearn-color-background);\n",
       "  padding-right: 1em;\n",
       "  padding-left: 1em;\n",
       "}\n",
       "\n",
       "\n",
       "/* Toggleable style: style used for estimator/Pipeline/ColumnTransformer box that is\n",
       "clickable and can be expanded/collapsed.\n",
       "- Pipeline and ColumnTransformer use this feature and define the default style\n",
       "- Estimators will overwrite some part of the style using the `sk-estimator` class\n",
       "*/\n",
       "\n",
       "/* Pipeline and ColumnTransformer style (default) */\n",
       "\n",
       "#sk-container-id-1 div.sk-toggleable {\n",
       "  /* Default theme specific background. It is overwritten whether we have a\n",
       "  specific estimator or a Pipeline/ColumnTransformer */\n",
       "  background-color: var(--sklearn-color-background);\n",
       "}\n",
       "\n",
       "/* Toggleable label */\n",
       "#sk-container-id-1 label.sk-toggleable__label {\n",
       "  cursor: pointer;\n",
       "  display: flex;\n",
       "  width: 100%;\n",
       "  margin-bottom: 0;\n",
       "  padding: 0.5em;\n",
       "  box-sizing: border-box;\n",
       "  text-align: center;\n",
       "  align-items: start;\n",
       "  justify-content: space-between;\n",
       "  gap: 0.5em;\n",
       "}\n",
       "\n",
       "#sk-container-id-1 label.sk-toggleable__label .caption {\n",
       "  font-size: 0.6rem;\n",
       "  font-weight: lighter;\n",
       "  color: var(--sklearn-color-text-muted);\n",
       "}\n",
       "\n",
       "#sk-container-id-1 label.sk-toggleable__label-arrow:before {\n",
       "  /* Arrow on the left of the label */\n",
       "  content: \"▸\";\n",
       "  float: left;\n",
       "  margin-right: 0.25em;\n",
       "  color: var(--sklearn-color-icon);\n",
       "}\n",
       "\n",
       "#sk-container-id-1 label.sk-toggleable__label-arrow:hover:before {\n",
       "  color: var(--sklearn-color-text);\n",
       "}\n",
       "\n",
       "/* Toggleable content - dropdown */\n",
       "\n",
       "#sk-container-id-1 div.sk-toggleable__content {\n",
       "  max-height: 0;\n",
       "  max-width: 0;\n",
       "  overflow: hidden;\n",
       "  text-align: left;\n",
       "  /* unfitted */\n",
       "  background-color: var(--sklearn-color-unfitted-level-0);\n",
       "}\n",
       "\n",
       "#sk-container-id-1 div.sk-toggleable__content.fitted {\n",
       "  /* fitted */\n",
       "  background-color: var(--sklearn-color-fitted-level-0);\n",
       "}\n",
       "\n",
       "#sk-container-id-1 div.sk-toggleable__content pre {\n",
       "  margin: 0.2em;\n",
       "  border-radius: 0.25em;\n",
       "  color: var(--sklearn-color-text);\n",
       "  /* unfitted */\n",
       "  background-color: var(--sklearn-color-unfitted-level-0);\n",
       "}\n",
       "\n",
       "#sk-container-id-1 div.sk-toggleable__content.fitted pre {\n",
       "  /* unfitted */\n",
       "  background-color: var(--sklearn-color-fitted-level-0);\n",
       "}\n",
       "\n",
       "#sk-container-id-1 input.sk-toggleable__control:checked~div.sk-toggleable__content {\n",
       "  /* Expand drop-down */\n",
       "  max-height: 200px;\n",
       "  max-width: 100%;\n",
       "  overflow: auto;\n",
       "}\n",
       "\n",
       "#sk-container-id-1 input.sk-toggleable__control:checked~label.sk-toggleable__label-arrow:before {\n",
       "  content: \"▾\";\n",
       "}\n",
       "\n",
       "/* Pipeline/ColumnTransformer-specific style */\n",
       "\n",
       "#sk-container-id-1 div.sk-label input.sk-toggleable__control:checked~label.sk-toggleable__label {\n",
       "  color: var(--sklearn-color-text);\n",
       "  background-color: var(--sklearn-color-unfitted-level-2);\n",
       "}\n",
       "\n",
       "#sk-container-id-1 div.sk-label.fitted input.sk-toggleable__control:checked~label.sk-toggleable__label {\n",
       "  background-color: var(--sklearn-color-fitted-level-2);\n",
       "}\n",
       "\n",
       "/* Estimator-specific style */\n",
       "\n",
       "/* Colorize estimator box */\n",
       "#sk-container-id-1 div.sk-estimator input.sk-toggleable__control:checked~label.sk-toggleable__label {\n",
       "  /* unfitted */\n",
       "  background-color: var(--sklearn-color-unfitted-level-2);\n",
       "}\n",
       "\n",
       "#sk-container-id-1 div.sk-estimator.fitted input.sk-toggleable__control:checked~label.sk-toggleable__label {\n",
       "  /* fitted */\n",
       "  background-color: var(--sklearn-color-fitted-level-2);\n",
       "}\n",
       "\n",
       "#sk-container-id-1 div.sk-label label.sk-toggleable__label,\n",
       "#sk-container-id-1 div.sk-label label {\n",
       "  /* The background is the default theme color */\n",
       "  color: var(--sklearn-color-text-on-default-background);\n",
       "}\n",
       "\n",
       "/* On hover, darken the color of the background */\n",
       "#sk-container-id-1 div.sk-label:hover label.sk-toggleable__label {\n",
       "  color: var(--sklearn-color-text);\n",
       "  background-color: var(--sklearn-color-unfitted-level-2);\n",
       "}\n",
       "\n",
       "/* Label box, darken color on hover, fitted */\n",
       "#sk-container-id-1 div.sk-label.fitted:hover label.sk-toggleable__label.fitted {\n",
       "  color: var(--sklearn-color-text);\n",
       "  background-color: var(--sklearn-color-fitted-level-2);\n",
       "}\n",
       "\n",
       "/* Estimator label */\n",
       "\n",
       "#sk-container-id-1 div.sk-label label {\n",
       "  font-family: monospace;\n",
       "  font-weight: bold;\n",
       "  display: inline-block;\n",
       "  line-height: 1.2em;\n",
       "}\n",
       "\n",
       "#sk-container-id-1 div.sk-label-container {\n",
       "  text-align: center;\n",
       "}\n",
       "\n",
       "/* Estimator-specific */\n",
       "#sk-container-id-1 div.sk-estimator {\n",
       "  font-family: monospace;\n",
       "  border: 1px dotted var(--sklearn-color-border-box);\n",
       "  border-radius: 0.25em;\n",
       "  box-sizing: border-box;\n",
       "  margin-bottom: 0.5em;\n",
       "  /* unfitted */\n",
       "  background-color: var(--sklearn-color-unfitted-level-0);\n",
       "}\n",
       "\n",
       "#sk-container-id-1 div.sk-estimator.fitted {\n",
       "  /* fitted */\n",
       "  background-color: var(--sklearn-color-fitted-level-0);\n",
       "}\n",
       "\n",
       "/* on hover */\n",
       "#sk-container-id-1 div.sk-estimator:hover {\n",
       "  /* unfitted */\n",
       "  background-color: var(--sklearn-color-unfitted-level-2);\n",
       "}\n",
       "\n",
       "#sk-container-id-1 div.sk-estimator.fitted:hover {\n",
       "  /* fitted */\n",
       "  background-color: var(--sklearn-color-fitted-level-2);\n",
       "}\n",
       "\n",
       "/* Specification for estimator info (e.g. \"i\" and \"?\") */\n",
       "\n",
       "/* Common style for \"i\" and \"?\" */\n",
       "\n",
       ".sk-estimator-doc-link,\n",
       "a:link.sk-estimator-doc-link,\n",
       "a:visited.sk-estimator-doc-link {\n",
       "  float: right;\n",
       "  font-size: smaller;\n",
       "  line-height: 1em;\n",
       "  font-family: monospace;\n",
       "  background-color: var(--sklearn-color-background);\n",
       "  border-radius: 1em;\n",
       "  height: 1em;\n",
       "  width: 1em;\n",
       "  text-decoration: none !important;\n",
       "  margin-left: 0.5em;\n",
       "  text-align: center;\n",
       "  /* unfitted */\n",
       "  border: var(--sklearn-color-unfitted-level-1) 1pt solid;\n",
       "  color: var(--sklearn-color-unfitted-level-1);\n",
       "}\n",
       "\n",
       ".sk-estimator-doc-link.fitted,\n",
       "a:link.sk-estimator-doc-link.fitted,\n",
       "a:visited.sk-estimator-doc-link.fitted {\n",
       "  /* fitted */\n",
       "  border: var(--sklearn-color-fitted-level-1) 1pt solid;\n",
       "  color: var(--sklearn-color-fitted-level-1);\n",
       "}\n",
       "\n",
       "/* On hover */\n",
       "div.sk-estimator:hover .sk-estimator-doc-link:hover,\n",
       ".sk-estimator-doc-link:hover,\n",
       "div.sk-label-container:hover .sk-estimator-doc-link:hover,\n",
       ".sk-estimator-doc-link:hover {\n",
       "  /* unfitted */\n",
       "  background-color: var(--sklearn-color-unfitted-level-3);\n",
       "  color: var(--sklearn-color-background);\n",
       "  text-decoration: none;\n",
       "}\n",
       "\n",
       "div.sk-estimator.fitted:hover .sk-estimator-doc-link.fitted:hover,\n",
       ".sk-estimator-doc-link.fitted:hover,\n",
       "div.sk-label-container:hover .sk-estimator-doc-link.fitted:hover,\n",
       ".sk-estimator-doc-link.fitted:hover {\n",
       "  /* fitted */\n",
       "  background-color: var(--sklearn-color-fitted-level-3);\n",
       "  color: var(--sklearn-color-background);\n",
       "  text-decoration: none;\n",
       "}\n",
       "\n",
       "/* Span, style for the box shown on hovering the info icon */\n",
       ".sk-estimator-doc-link span {\n",
       "  display: none;\n",
       "  z-index: 9999;\n",
       "  position: relative;\n",
       "  font-weight: normal;\n",
       "  right: .2ex;\n",
       "  padding: .5ex;\n",
       "  margin: .5ex;\n",
       "  width: min-content;\n",
       "  min-width: 20ex;\n",
       "  max-width: 50ex;\n",
       "  color: var(--sklearn-color-text);\n",
       "  box-shadow: 2pt 2pt 4pt #999;\n",
       "  /* unfitted */\n",
       "  background: var(--sklearn-color-unfitted-level-0);\n",
       "  border: .5pt solid var(--sklearn-color-unfitted-level-3);\n",
       "}\n",
       "\n",
       ".sk-estimator-doc-link.fitted span {\n",
       "  /* fitted */\n",
       "  background: var(--sklearn-color-fitted-level-0);\n",
       "  border: var(--sklearn-color-fitted-level-3);\n",
       "}\n",
       "\n",
       ".sk-estimator-doc-link:hover span {\n",
       "  display: block;\n",
       "}\n",
       "\n",
       "/* \"?\"-specific style due to the `<a>` HTML tag */\n",
       "\n",
       "#sk-container-id-1 a.estimator_doc_link {\n",
       "  float: right;\n",
       "  font-size: 1rem;\n",
       "  line-height: 1em;\n",
       "  font-family: monospace;\n",
       "  background-color: var(--sklearn-color-background);\n",
       "  border-radius: 1rem;\n",
       "  height: 1rem;\n",
       "  width: 1rem;\n",
       "  text-decoration: none;\n",
       "  /* unfitted */\n",
       "  color: var(--sklearn-color-unfitted-level-1);\n",
       "  border: var(--sklearn-color-unfitted-level-1) 1pt solid;\n",
       "}\n",
       "\n",
       "#sk-container-id-1 a.estimator_doc_link.fitted {\n",
       "  /* fitted */\n",
       "  border: var(--sklearn-color-fitted-level-1) 1pt solid;\n",
       "  color: var(--sklearn-color-fitted-level-1);\n",
       "}\n",
       "\n",
       "/* On hover */\n",
       "#sk-container-id-1 a.estimator_doc_link:hover {\n",
       "  /* unfitted */\n",
       "  background-color: var(--sklearn-color-unfitted-level-3);\n",
       "  color: var(--sklearn-color-background);\n",
       "  text-decoration: none;\n",
       "}\n",
       "\n",
       "#sk-container-id-1 a.estimator_doc_link.fitted:hover {\n",
       "  /* fitted */\n",
       "  background-color: var(--sklearn-color-fitted-level-3);\n",
       "}\n",
       "</style><div id=\"sk-container-id-1\" class=\"sk-top-container\"><div class=\"sk-text-repr-fallback\"><pre>ColumnTransformer(force_int_remainder_cols=False, n_jobs=-1,\n",
       "                  remainder=&#x27;passthrough&#x27;,\n",
       "                  transformers=[(&#x27;ohe&#x27;,\n",
       "                                 OneHotEncoder(drop=&#x27;first&#x27;,\n",
       "                                               sparse_output=False),\n",
       "                                 [&#x27;region&#x27;, &#x27;day_of_week&#x27;])])</pre><b>In a Jupyter environment, please rerun this cell to show the HTML representation or trust the notebook. <br />On GitHub, the HTML representation is unable to render, please try loading this page with nbviewer.org.</b></div><div class=\"sk-container\" hidden><div class=\"sk-item sk-dashed-wrapped\"><div class=\"sk-label-container\"><div class=\"sk-label  sk-toggleable\"><input class=\"sk-toggleable__control sk-hidden--visually\" id=\"sk-estimator-id-1\" type=\"checkbox\" ><label for=\"sk-estimator-id-1\" class=\"sk-toggleable__label  sk-toggleable__label-arrow\"><div><div>ColumnTransformer</div></div><div><a class=\"sk-estimator-doc-link \" rel=\"noreferrer\" target=\"_blank\" href=\"https://scikit-learn.org/1.6/modules/generated/sklearn.compose.ColumnTransformer.html\">?<span>Documentation for ColumnTransformer</span></a><span class=\"sk-estimator-doc-link \">i<span>Not fitted</span></span></div></label><div class=\"sk-toggleable__content \"><pre>ColumnTransformer(force_int_remainder_cols=False, n_jobs=-1,\n",
       "                  remainder=&#x27;passthrough&#x27;,\n",
       "                  transformers=[(&#x27;ohe&#x27;,\n",
       "                                 OneHotEncoder(drop=&#x27;first&#x27;,\n",
       "                                               sparse_output=False),\n",
       "                                 [&#x27;region&#x27;, &#x27;day_of_week&#x27;])])</pre></div> </div></div><div class=\"sk-parallel\"><div class=\"sk-parallel-item\"><div class=\"sk-item\"><div class=\"sk-label-container\"><div class=\"sk-label  sk-toggleable\"><input class=\"sk-toggleable__control sk-hidden--visually\" id=\"sk-estimator-id-2\" type=\"checkbox\" ><label for=\"sk-estimator-id-2\" class=\"sk-toggleable__label  sk-toggleable__label-arrow\"><div><div>ohe</div></div></label><div class=\"sk-toggleable__content \"><pre>[&#x27;region&#x27;, &#x27;day_of_week&#x27;]</pre></div> </div></div><div class=\"sk-serial\"><div class=\"sk-item\"><div class=\"sk-estimator  sk-toggleable\"><input class=\"sk-toggleable__control sk-hidden--visually\" id=\"sk-estimator-id-3\" type=\"checkbox\" ><label for=\"sk-estimator-id-3\" class=\"sk-toggleable__label  sk-toggleable__label-arrow\"><div><div>OneHotEncoder</div></div><div><a class=\"sk-estimator-doc-link \" rel=\"noreferrer\" target=\"_blank\" href=\"https://scikit-learn.org/1.6/modules/generated/sklearn.preprocessing.OneHotEncoder.html\">?<span>Documentation for OneHotEncoder</span></a></div></label><div class=\"sk-toggleable__content \"><pre>OneHotEncoder(drop=&#x27;first&#x27;, sparse_output=False)</pre></div> </div></div></div></div></div><div class=\"sk-parallel-item\"><div class=\"sk-item\"><div class=\"sk-label-container\"><div class=\"sk-label  sk-toggleable\"><input class=\"sk-toggleable__control sk-hidden--visually\" id=\"sk-estimator-id-4\" type=\"checkbox\" ><label for=\"sk-estimator-id-4\" class=\"sk-toggleable__label  sk-toggleable__label-arrow\"><div><div>remainder</div></div></label><div class=\"sk-toggleable__content \"><pre></pre></div> </div></div><div class=\"sk-serial\"><div class=\"sk-item\"><div class=\"sk-estimator  sk-toggleable\"><input class=\"sk-toggleable__control sk-hidden--visually\" id=\"sk-estimator-id-5\" type=\"checkbox\" ><label for=\"sk-estimator-id-5\" class=\"sk-toggleable__label  sk-toggleable__label-arrow\"><div><div>passthrough</div></div></label><div class=\"sk-toggleable__content \"><pre>passthrough</pre></div> </div></div></div></div></div></div></div></div></div>"
      ],
      "text/plain": [
       "ColumnTransformer(force_int_remainder_cols=False, n_jobs=-1,\n",
       "                  remainder='passthrough',\n",
       "                  transformers=[('ohe',\n",
       "                                 OneHotEncoder(drop='first',\n",
       "                                               sparse_output=False),\n",
       "                                 ['region', 'day_of_week'])])"
      ]
     },
     "execution_count": 13,
     "metadata": {},
     "output_type": "execute_result"
    }
   ],
   "source": [
    "encoder = ColumnTransformer(\n",
    "    [\n",
    "        (\"ohe\", OneHotEncoder(drop=\"first\", sparse_output=False), [\"region\", \"day_of_week\"]),\n",
    "    ],\n",
    "    remainder=\"passthrough\",\n",
    "    n_jobs=-1,\n",
    "    force_int_remainder_cols=False,\n",
    ")\n",
    "encoder"
   ]
  },
  {
   "cell_type": "code",
   "execution_count": 14,
   "id": "e046f413-0bc5-43c3-9af4-feec76175682",
   "metadata": {},
   "outputs": [],
   "source": [
    "X_train_encoded = encoder.fit_transform(X_train)\n",
    "X_test_encoded = encoder.transform(X_test)"
   ]
  },
  {
   "cell_type": "markdown",
   "id": "59ff572d-bec9-4324-b787-093215d05d09",
   "metadata": {},
   "source": [
    "# Model Selection & Hyperparameter Tuning"
   ]
  },
  {
   "cell_type": "code",
   "execution_count": 15,
   "id": "62db3638-fc93-448c-844e-11ec408cc2cc",
   "metadata": {},
   "outputs": [
    {
     "name": "stderr",
     "output_type": "stream",
     "text": [
      "2025/03/21 23:38:28 INFO mlflow.tracking.fluent: Experiment with name 'model_selection' does not exist. Creating a new experiment.\n"
     ]
    },
    {
     "data": {
      "text/plain": [
       "<Experiment: artifact_location='mlflow-artifacts:/e7025ecf811645d197bc7740aa83c0f9', creation_time=1742614708910, experiment_id='0', last_update_time=1742614708910, lifecycle_stage='active', name='model_selection', tags={}>"
      ]
     },
     "execution_count": 15,
     "metadata": {},
     "output_type": "execute_result"
    }
   ],
   "source": [
    "# Experiment name\n",
    "\n",
    "mlflow.set_experiment(\"model_selection\")"
   ]
  },
  {
   "cell_type": "code",
   "execution_count": 16,
   "id": "e778d3e5-f0a5-4e1e-90cd-dc3b4a2c4e1f",
   "metadata": {},
   "outputs": [],
   "source": [
    "def objective(trial):\n",
    "    # Start with the child run\n",
    "    with mlflow.start_run(nested=True) as child:\n",
    "        # Models and their hyperparameter search space\n",
    "        list_of_models = [\"LR\", \"RF\", \"GBR\", \"XGBR\"]\n",
    "        model_name = trial.suggest_categorical(\"model_name\", list_of_models)\n",
    "\n",
    "        # Going over the models and their hyperparameters\n",
    "        if model_name == \"LR\":\n",
    "            model = LinearRegression()\n",
    "\n",
    "        elif model_name == \"RF\":\n",
    "            n_estimators_rf = trial.suggest_int(\"n_estimators_rf\", 10, 100, step=10)\n",
    "            max_depth_rf = trial.suggest_int(\"max_depth_rf\", 3, 10)\n",
    "            model = RandomForestRegressor(\n",
    "                n_estimators=n_estimators_rf,\n",
    "                max_depth=max_depth_rf,\n",
    "                random_state=42,\n",
    "                n_jobs=-1\n",
    "            )\n",
    "\n",
    "        elif model_name == \"GBR\":\n",
    "            n_estimators_gb = trial.suggest_int(\"n_estimators_gb\", 10, 100, step=10)\n",
    "            learning_rate_gb = trial.suggest_float(\"learning_rate_gb\", 1e-4, 1e-1, log=True)\n",
    "            model = GradientBoostingRegressor(\n",
    "                n_estimators=n_estimators_gb,\n",
    "                learning_rate=learning_rate_gb,\n",
    "                random_state=42\n",
    "            )\n",
    "\n",
    "        elif model_name == \"XGBR\":\n",
    "            n_estimators_xgb = trial.suggest_int(\"n_estimators_xgb\", 10, 100, step=10)\n",
    "            learning_rate_xgb = trial.suggest_float(\"learning_rate_xgb\", 1e-4, 1e-1, log=True)\n",
    "            max_depth_xgb = trial.suggest_int(\"max_depth_xgb\", 3, 10)\n",
    "            model = XGBRegressor(\n",
    "                n_estimators=n_estimators_xgb,\n",
    "                learning_rate=learning_rate_xgb,\n",
    "                max_depth=max_depth_xgb\n",
    "            )\n",
    "\n",
    "        # Logging the model name\n",
    "        mlflow.log_param(\"model_name\", model_name)\n",
    "\n",
    "        # Logging the model parameters\n",
    "        mlflow.log_params(model.get_params())\n",
    "\n",
    "        # Training the model\n",
    "        model.fit(X_train_encoded, y_train)\n",
    "\n",
    "        # Getting the predictions\n",
    "        y_pred = model.predict(X_test_encoded)\n",
    "\n",
    "        # Calculating MAPE\n",
    "        mape = mean_absolute_percentage_error(y_true=y_test, y_pred=y_pred)\n",
    "\n",
    "        # Logging MAPE\n",
    "        mlflow.log_metric(\"mape\", mape)\n",
    "\n",
    "        return mape"
   ]
  },
  {
   "cell_type": "code",
   "execution_count": 17,
   "id": "3cb364b0-bafa-440a-93db-d9780bcfd194",
   "metadata": {},
   "outputs": [
    {
     "name": "stderr",
     "output_type": "stream",
     "text": [
      "[I 2025-03-22 00:00:26,855] A new study created in memory with name: model_selection\n"
     ]
    },
    {
     "name": "stdout",
     "output_type": "stream",
     "text": [
      "🏃 View run funny-jay-544 at: https://dagshub.com/SushrutGaikwad/taxi-demand-prediction.mlflow/#/experiments/0/runs/fb959430774c4fb38c2033746868ee76\n",
      "🧪 View experiment at: https://dagshub.com/SushrutGaikwad/taxi-demand-prediction.mlflow/#/experiments/0\n",
      "🏃 View run intelligent-dog-10 at: https://dagshub.com/SushrutGaikwad/taxi-demand-prediction.mlflow/#/experiments/0/runs/612598c975594e3e87f9f2168435a07c\n",
      "🧪 View experiment at: https://dagshub.com/SushrutGaikwad/taxi-demand-prediction.mlflow/#/experiments/0\n",
      "🏃 View run defiant-quail-89 at: https://dagshub.com/SushrutGaikwad/taxi-demand-prediction.mlflow/#/experiments/0/runs/8c362233766a4d6b8efea5b0eb4ffa81\n",
      "🧪 View experiment at: https://dagshub.com/SushrutGaikwad/taxi-demand-prediction.mlflow/#/experiments/0\n",
      "🏃 View run fortunate-ox-569 at: https://dagshub.com/SushrutGaikwad/taxi-demand-prediction.mlflow/#/experiments/0/runs/851df5b430864fdd95b6dcd9578f7a27\n",
      "🧪 View experiment at: https://dagshub.com/SushrutGaikwad/taxi-demand-prediction.mlflow/#/experiments/0\n",
      "🏃 View run zealous-mare-947 at: https://dagshub.com/SushrutGaikwad/taxi-demand-prediction.mlflow/#/experiments/0/runs/c5bfa9ef441d40af8fe9ff5dd48b8b2e\n",
      "🧪 View experiment at: https://dagshub.com/SushrutGaikwad/taxi-demand-prediction.mlflow/#/experiments/0\n",
      "🏃 View run stylish-panda-279 at: https://dagshub.com/SushrutGaikwad/taxi-demand-prediction.mlflow/#/experiments/0/runs/168bc5d292974d439440c97833b0984b\n",
      "🧪 View experiment at: https://dagshub.com/SushrutGaikwad/taxi-demand-prediction.mlflow/#/experiments/0\n"
     ]
    },
    {
     "name": "stderr",
     "output_type": "stream",
     "text": [
      "[I 2025-03-22 00:01:13,829] Trial 3 finished with value: 0.07934790285463529 and parameters: {'model_name': 'LR'}. Best is trial 3 with value: 0.07934790285463529.\n"
     ]
    },
    {
     "name": "stdout",
     "output_type": "stream",
     "text": [
      "🏃 View run auspicious-gnat-418 at: https://dagshub.com/SushrutGaikwad/taxi-demand-prediction.mlflow/#/experiments/0/runs/2d118ee3b4ea4765811e673d89815b6b\n",
      "🧪 View experiment at: https://dagshub.com/SushrutGaikwad/taxi-demand-prediction.mlflow/#/experiments/0\n"
     ]
    },
    {
     "name": "stderr",
     "output_type": "stream",
     "text": [
      "[I 2025-03-22 00:01:15,839] Trial 2 finished with value: 0.10808084905147552 and parameters: {'model_name': 'XGBR', 'n_estimators_xgb': 100, 'learning_rate_xgb': 0.09782463377770757, 'max_depth_xgb': 8}. Best is trial 3 with value: 0.07934790285463529.\n",
      "[I 2025-03-22 00:01:17,817] Trial 12 finished with value: 0.07934790285463529 and parameters: {'model_name': 'LR'}. Best is trial 3 with value: 0.07934790285463529.\n",
      "[I 2025-03-22 00:01:21,900] Trial 1 finished with value: 1.048230528831482 and parameters: {'model_name': 'XGBR', 'n_estimators_xgb': 30, 'learning_rate_xgb': 0.06124248879280332, 'max_depth_xgb': 9}. Best is trial 3 with value: 0.07934790285463529.\n",
      "[I 2025-03-22 00:01:22,826] Trial 19 finished with value: 0.07934790285463529 and parameters: {'model_name': 'LR'}. Best is trial 3 with value: 0.07934790285463529.\n",
      "[I 2025-03-22 00:01:24,848] Trial 5 finished with value: 0.07934790285463529 and parameters: {'model_name': 'LR'}. Best is trial 3 with value: 0.07934790285463529.\n"
     ]
    },
    {
     "name": "stdout",
     "output_type": "stream",
     "text": [
      "🏃 View run handsome-goat-189 at: https://dagshub.com/SushrutGaikwad/taxi-demand-prediction.mlflow/#/experiments/0/runs/25e1dc27b1234a418ea07b814b81cf9b\n",
      "🧪 View experiment at: https://dagshub.com/SushrutGaikwad/taxi-demand-prediction.mlflow/#/experiments/0\n",
      "🏃 View run capricious-yak-62 at: https://dagshub.com/SushrutGaikwad/taxi-demand-prediction.mlflow/#/experiments/0/runs/9592342e9f2a406e85c45772b9982666\n",
      "🧪 View experiment at: https://dagshub.com/SushrutGaikwad/taxi-demand-prediction.mlflow/#/experiments/0\n"
     ]
    },
    {
     "name": "stderr",
     "output_type": "stream",
     "text": [
      "[I 2025-03-22 00:01:37,829] Trial 16 finished with value: 6.25038480758667 and parameters: {'model_name': 'XGBR', 'n_estimators_xgb': 90, 'learning_rate_xgb': 0.0005863864414654645, 'max_depth_xgb': 4}. Best is trial 3 with value: 0.07934790285463529.\n"
     ]
    },
    {
     "name": "stdout",
     "output_type": "stream",
     "text": [
      "🏃 View run invincible-ox-640 at: https://dagshub.com/SushrutGaikwad/taxi-demand-prediction.mlflow/#/experiments/0/runs/d856b7826c494b6d943e43b54e3416ab\n",
      "🧪 View experiment at: https://dagshub.com/SushrutGaikwad/taxi-demand-prediction.mlflow/#/experiments/0\n"
     ]
    },
    {
     "name": "stderr",
     "output_type": "stream",
     "text": [
      "[I 2025-03-22 00:02:02,820] Trial 14 finished with value: 6.2228779792785645 and parameters: {'model_name': 'XGBR', 'n_estimators_xgb': 90, 'learning_rate_xgb': 0.0006371451868598997, 'max_depth_xgb': 4}. Best is trial 3 with value: 0.07934790285463529.\n"
     ]
    },
    {
     "name": "stdout",
     "output_type": "stream",
     "text": [
      "🏃 View run overjoyed-ox-634 at: https://dagshub.com/SushrutGaikwad/taxi-demand-prediction.mlflow/#/experiments/0/runs/4b7dff7c82ad44dfaa9b8a29446671ff\n",
      "🧪 View experiment at: https://dagshub.com/SushrutGaikwad/taxi-demand-prediction.mlflow/#/experiments/0\n"
     ]
    },
    {
     "name": "stderr",
     "output_type": "stream",
     "text": [
      "[I 2025-03-22 00:02:08,851] Trial 21 finished with value: 6.522985935211182 and parameters: {'model_name': 'XGBR', 'n_estimators_xgb': 30, 'learning_rate_xgb': 0.00028109949791025376, 'max_depth_xgb': 8}. Best is trial 3 with value: 0.07934790285463529.\n"
     ]
    },
    {
     "name": "stdout",
     "output_type": "stream",
     "text": [
      "🏃 View run flawless-seal-672 at: https://dagshub.com/SushrutGaikwad/taxi-demand-prediction.mlflow/#/experiments/0/runs/3b54dd31e6c44d539e84a608fb38ec8f\n",
      "🧪 View experiment at: https://dagshub.com/SushrutGaikwad/taxi-demand-prediction.mlflow/#/experiments/0\n",
      "🏃 View run magnificent-hound-89 at: https://dagshub.com/SushrutGaikwad/taxi-demand-prediction.mlflow/#/experiments/0/runs/885ea7d9676b4fe7a8a210beab03f936\n",
      "🧪 View experiment at: https://dagshub.com/SushrutGaikwad/taxi-demand-prediction.mlflow/#/experiments/0\n",
      "🏃 View run capricious-perch-871 at: https://dagshub.com/SushrutGaikwad/taxi-demand-prediction.mlflow/#/experiments/0/runs/edf9f4aa79834b70bd7fca134db0e168\n",
      "🧪 View experiment at: https://dagshub.com/SushrutGaikwad/taxi-demand-prediction.mlflow/#/experiments/0\n",
      "🏃 View run grandiose-hare-249 at: https://dagshub.com/SushrutGaikwad/taxi-demand-prediction.mlflow/#/experiments/0/runs/d60bfb0984b746d284483f328b81af0b\n",
      "🧪 View experiment at: https://dagshub.com/SushrutGaikwad/taxi-demand-prediction.mlflow/#/experiments/0\n",
      "🏃 View run caring-fowl-375 at: https://dagshub.com/SushrutGaikwad/taxi-demand-prediction.mlflow/#/experiments/0/runs/98a04be208004b698deb55469d69979e\n",
      "🧪 View experiment at: https://dagshub.com/SushrutGaikwad/taxi-demand-prediction.mlflow/#/experiments/0\n"
     ]
    },
    {
     "name": "stderr",
     "output_type": "stream",
     "text": [
      "[I 2025-03-22 00:02:16,824] Trial 25 finished with value: 0.130290113505722 and parameters: {'model_name': 'RF', 'n_estimators_rf': 10, 'max_depth_rf': 10}. Best is trial 3 with value: 0.07934790285463529.\n",
      "[I 2025-03-22 00:02:19,848] Trial 11 finished with value: 0.07934790285463529 and parameters: {'model_name': 'LR'}. Best is trial 3 with value: 0.07934790285463529.\n",
      "[I 2025-03-22 00:02:20,824] Trial 26 finished with value: 6.1606526374816895 and parameters: {'model_name': 'XGBR', 'n_estimators_xgb': 90, 'learning_rate_xgb': 0.0007730137093947523, 'max_depth_xgb': 3}. Best is trial 3 with value: 0.07934790285463529.\n",
      "[I 2025-03-22 00:02:21,826] Trial 27 finished with value: 0.1832185536623001 and parameters: {'model_name': 'XGBR', 'n_estimators_xgb': 60, 'learning_rate_xgb': 0.06720475916397108, 'max_depth_xgb': 8}. Best is trial 3 with value: 0.07934790285463529.\n",
      "[I 2025-03-22 00:02:23,845] Trial 15 finished with value: 2.6806978811040105 and parameters: {'model_name': 'GBR', 'n_estimators_gb': 10, 'learning_rate_gb': 0.09417561302236921}. Best is trial 3 with value: 0.07934790285463529.\n",
      "[I 2025-03-22 00:02:24,823] Trial 23 finished with value: 5.788099906480223 and parameters: {'model_name': 'GBR', 'n_estimators_gb': 90, 'learning_rate_gb': 0.0015114916518020518}. Best is trial 3 with value: 0.07934790285463529.\n"
     ]
    },
    {
     "name": "stdout",
     "output_type": "stream",
     "text": [
      "🏃 View run honorable-lynx-957 at: https://dagshub.com/SushrutGaikwad/taxi-demand-prediction.mlflow/#/experiments/0/runs/97758d1baf3249fcb82ff6cf0de85609\n",
      "🧪 View experiment at: https://dagshub.com/SushrutGaikwad/taxi-demand-prediction.mlflow/#/experiments/0\n",
      "🏃 View run fortunate-fowl-378 at: https://dagshub.com/SushrutGaikwad/taxi-demand-prediction.mlflow/#/experiments/0/runs/e7cfbdcb96ae4727bcd9fc9dba297253\n",
      "🧪 View experiment at: https://dagshub.com/SushrutGaikwad/taxi-demand-prediction.mlflow/#/experiments/0\n"
     ]
    },
    {
     "name": "stderr",
     "output_type": "stream",
     "text": [
      "[I 2025-03-22 00:02:35,856] Trial 28 finished with value: 0.07934790285463529 and parameters: {'model_name': 'LR'}. Best is trial 3 with value: 0.07934790285463529.\n",
      "[I 2025-03-22 00:02:37,858] Trial 30 finished with value: 0.07934790285463529 and parameters: {'model_name': 'LR'}. Best is trial 3 with value: 0.07934790285463529.\n"
     ]
    },
    {
     "name": "stdout",
     "output_type": "stream",
     "text": [
      "🏃 View run rebellious-ant-328 at: https://dagshub.com/SushrutGaikwad/taxi-demand-prediction.mlflow/#/experiments/0/runs/6c71bd9f11d84867b7841fe0a5f4f476\n",
      "🧪 View experiment at: https://dagshub.com/SushrutGaikwad/taxi-demand-prediction.mlflow/#/experiments/0\n",
      "🏃 View run crawling-eel-548 at: https://dagshub.com/SushrutGaikwad/taxi-demand-prediction.mlflow/#/experiments/0/runs/0ccf4a4a74174121b751015d32a45933\n",
      "🧪 View experiment at: https://dagshub.com/SushrutGaikwad/taxi-demand-prediction.mlflow/#/experiments/0\n"
     ]
    },
    {
     "name": "stderr",
     "output_type": "stream",
     "text": [
      "[I 2025-03-22 00:02:58,821] Trial 17 finished with value: 6.45842923376763 and parameters: {'model_name': 'GBR', 'n_estimators_gb': 70, 'learning_rate_gb': 0.00027671441965037235}. Best is trial 3 with value: 0.07934790285463529.\n",
      "[I 2025-03-22 00:03:03,820] Trial 31 finished with value: 0.17757159724163896 and parameters: {'model_name': 'RF', 'n_estimators_rf': 20, 'max_depth_rf': 7}. Best is trial 3 with value: 0.07934790285463529.\n"
     ]
    },
    {
     "name": "stdout",
     "output_type": "stream",
     "text": [
      "🏃 View run dapper-stag-877 at: https://dagshub.com/SushrutGaikwad/taxi-demand-prediction.mlflow/#/experiments/0/runs/73f89f555e7b42d19e0f4cf995f6685a\n",
      "🧪 View experiment at: https://dagshub.com/SushrutGaikwad/taxi-demand-prediction.mlflow/#/experiments/0\n",
      "🏃 View run kindly-sloth-785 at: https://dagshub.com/SushrutGaikwad/taxi-demand-prediction.mlflow/#/experiments/0/runs/05cc5b6a55994546a010b6982f922185\n",
      "🧪 View experiment at: https://dagshub.com/SushrutGaikwad/taxi-demand-prediction.mlflow/#/experiments/0\n",
      "🏃 View run hilarious-quail-331 at: https://dagshub.com/SushrutGaikwad/taxi-demand-prediction.mlflow/#/experiments/0/runs/61baadf8ec8d48d5aabac86fc33d1bbc\n",
      "🧪 View experiment at: https://dagshub.com/SushrutGaikwad/taxi-demand-prediction.mlflow/#/experiments/0\n",
      "🏃 View run redolent-owl-429 at: https://dagshub.com/SushrutGaikwad/taxi-demand-prediction.mlflow/#/experiments/0/runs/afb95cfd45794c2f9fc145533773796e\n",
      "🧪 View experiment at: https://dagshub.com/SushrutGaikwad/taxi-demand-prediction.mlflow/#/experiments/0\n",
      "🏃 View run silent-cat-188 at: https://dagshub.com/SushrutGaikwad/taxi-demand-prediction.mlflow/#/experiments/0/runs/dfa32557950a4d2d87f667373fb49bff\n",
      "🧪 View experiment at: https://dagshub.com/SushrutGaikwad/taxi-demand-prediction.mlflow/#/experiments/0\n"
     ]
    },
    {
     "name": "stderr",
     "output_type": "stream",
     "text": [
      "[I 2025-03-22 00:03:15,817] Trial 33 finished with value: 0.07934790285463529 and parameters: {'model_name': 'LR'}. Best is trial 3 with value: 0.07934790285463529.\n",
      "[I 2025-03-22 00:03:18,833] Trial 34 finished with value: 0.07934790285463529 and parameters: {'model_name': 'LR'}. Best is trial 3 with value: 0.07934790285463529.\n",
      "[I 2025-03-22 00:03:19,834] Trial 35 finished with value: 0.07934790285463529 and parameters: {'model_name': 'LR'}. Best is trial 3 with value: 0.07934790285463529.\n",
      "[I 2025-03-22 00:03:21,812] Trial 36 finished with value: 0.07934790285463529 and parameters: {'model_name': 'LR'}. Best is trial 3 with value: 0.07934790285463529.\n",
      "[I 2025-03-22 00:03:22,827] Trial 37 finished with value: 0.07934790285463529 and parameters: {'model_name': 'LR'}. Best is trial 3 with value: 0.07934790285463529.\n"
     ]
    },
    {
     "name": "stdout",
     "output_type": "stream",
     "text": [
      "🏃 View run tasteful-wren-445 at: https://dagshub.com/SushrutGaikwad/taxi-demand-prediction.mlflow/#/experiments/0/runs/8b15555b629241efa5966f5ca111cdbb\n",
      "🧪 View experiment at: https://dagshub.com/SushrutGaikwad/taxi-demand-prediction.mlflow/#/experiments/0\n",
      "🏃 View run dapper-grouse-759 at: https://dagshub.com/SushrutGaikwad/taxi-demand-prediction.mlflow/#/experiments/0/runs/591005ac067948068dac4ae729ea3ee3\n",
      "🧪 View experiment at: https://dagshub.com/SushrutGaikwad/taxi-demand-prediction.mlflow/#/experiments/0\n",
      "🏃 View run beautiful-moth-844 at: https://dagshub.com/SushrutGaikwad/taxi-demand-prediction.mlflow/#/experiments/0/runs/b2777eb6c0064ca597bb623589a9aba9\n",
      "🧪 View experiment at: https://dagshub.com/SushrutGaikwad/taxi-demand-prediction.mlflow/#/experiments/0\n"
     ]
    },
    {
     "name": "stderr",
     "output_type": "stream",
     "text": [
      "[I 2025-03-22 00:03:34,824] Trial 32 finished with value: 0.814946733912501 and parameters: {'model_name': 'GBR', 'n_estimators_gb': 80, 'learning_rate_gb': 0.02986573512357426}. Best is trial 3 with value: 0.07934790285463529.\n",
      "[I 2025-03-22 00:03:37,817] Trial 10 finished with value: 0.5443209920941997 and parameters: {'model_name': 'RF', 'n_estimators_rf': 100, 'max_depth_rf': 3}. Best is trial 3 with value: 0.07934790285463529.\n",
      "[I 2025-03-22 00:03:40,830] Trial 39 finished with value: 0.5443209920941996 and parameters: {'model_name': 'RF', 'n_estimators_rf': 100, 'max_depth_rf': 3}. Best is trial 3 with value: 0.07934790285463529.\n"
     ]
    },
    {
     "name": "stdout",
     "output_type": "stream",
     "text": [
      "🏃 View run abrasive-colt-227 at: https://dagshub.com/SushrutGaikwad/taxi-demand-prediction.mlflow/#/experiments/0/runs/b4084f762e3547919ba9749a29c8536f\n",
      "🧪 View experiment at: https://dagshub.com/SushrutGaikwad/taxi-demand-prediction.mlflow/#/experiments/0\n",
      "🏃 View run enchanting-skink-39 at: https://dagshub.com/SushrutGaikwad/taxi-demand-prediction.mlflow/#/experiments/0/runs/2738f3b66ab248f3b332c95b45e538ba\n",
      "🧪 View experiment at: https://dagshub.com/SushrutGaikwad/taxi-demand-prediction.mlflow/#/experiments/0\n",
      "🏃 View run redolent-pig-834 at: https://dagshub.com/SushrutGaikwad/taxi-demand-prediction.mlflow/#/experiments/0/runs/68a4b888302645d587319ce4172ed2b4\n",
      "🧪 View experiment at: https://dagshub.com/SushrutGaikwad/taxi-demand-prediction.mlflow/#/experiments/0\n"
     ]
    },
    {
     "name": "stderr",
     "output_type": "stream",
     "text": [
      "[I 2025-03-22 00:03:56,839] Trial 8 finished with value: 6.533738059538262 and parameters: {'model_name': 'GBR', 'n_estimators_gb': 60, 'learning_rate_gb': 0.00011803685141773725}. Best is trial 3 with value: 0.07934790285463529.\n",
      "[I 2025-03-22 00:04:03,857] Trial 42 finished with value: 0.07934790285463529 and parameters: {'model_name': 'LR'}. Best is trial 3 with value: 0.07934790285463529.\n"
     ]
    },
    {
     "name": "stdout",
     "output_type": "stream",
     "text": [
      "🏃 View run learned-rook-577 at: https://dagshub.com/SushrutGaikwad/taxi-demand-prediction.mlflow/#/experiments/0/runs/710a64995fec4e5db841cdb50ddbf768\n",
      "🧪 View experiment at: https://dagshub.com/SushrutGaikwad/taxi-demand-prediction.mlflow/#/experiments/0\n",
      "🏃 View run exultant-roo-431 at: https://dagshub.com/SushrutGaikwad/taxi-demand-prediction.mlflow/#/experiments/0/runs/55663e40039a4b88b8e1b246cd542b36\n",
      "🧪 View experiment at: https://dagshub.com/SushrutGaikwad/taxi-demand-prediction.mlflow/#/experiments/0\n",
      "🏃 View run abundant-pug-897 at: https://dagshub.com/SushrutGaikwad/taxi-demand-prediction.mlflow/#/experiments/0/runs/932abbf8303e4e3e94f4aab42fb3ef20\n",
      "🧪 View experiment at: https://dagshub.com/SushrutGaikwad/taxi-demand-prediction.mlflow/#/experiments/0\n",
      "🏃 View run brawny-wasp-363 at: https://dagshub.com/SushrutGaikwad/taxi-demand-prediction.mlflow/#/experiments/0/runs/ea70a8fe4f524ac081ace81d1f16a2d3\n",
      "🧪 View experiment at: https://dagshub.com/SushrutGaikwad/taxi-demand-prediction.mlflow/#/experiments/0\n",
      "🏃 View run carefree-duck-567 at: https://dagshub.com/SushrutGaikwad/taxi-demand-prediction.mlflow/#/experiments/0/runs/b305b524da2641818ef7f8a4dd84f435\n",
      "🧪 View experiment at: https://dagshub.com/SushrutGaikwad/taxi-demand-prediction.mlflow/#/experiments/0\n",
      "🏃 View run gregarious-sloth-440 at: https://dagshub.com/SushrutGaikwad/taxi-demand-prediction.mlflow/#/experiments/0/runs/d0c6f8f3d89043279a64d4a96eca57c1\n",
      "🧪 View experiment at: https://dagshub.com/SushrutGaikwad/taxi-demand-prediction.mlflow/#/experiments/0\n"
     ]
    },
    {
     "name": "stderr",
     "output_type": "stream",
     "text": [
      "[I 2025-03-22 00:04:13,824] Trial 41 finished with value: 0.07934790285463529 and parameters: {'model_name': 'LR'}. Best is trial 3 with value: 0.07934790285463529.\n",
      "[I 2025-03-22 00:04:15,830] Trial 43 finished with value: 0.07934790285463529 and parameters: {'model_name': 'LR'}. Best is trial 3 with value: 0.07934790285463529.\n",
      "[I 2025-03-22 00:04:17,830] Trial 44 finished with value: 0.07934790285463529 and parameters: {'model_name': 'LR'}. Best is trial 3 with value: 0.07934790285463529.\n",
      "[I 2025-03-22 00:04:18,846] Trial 45 finished with value: 0.07934790285463529 and parameters: {'model_name': 'LR'}. Best is trial 3 with value: 0.07934790285463529.\n",
      "[I 2025-03-22 00:04:19,824] Trial 24 finished with value: 0.07934790285463529 and parameters: {'model_name': 'LR'}. Best is trial 3 with value: 0.07934790285463529.\n"
     ]
    },
    {
     "name": "stdout",
     "output_type": "stream",
     "text": [
      "🏃 View run rogue-trout-200 at: https://dagshub.com/SushrutGaikwad/taxi-demand-prediction.mlflow/#/experiments/0/runs/41455f4ba7a04ea788297c0f77880824\n",
      "🧪 View experiment at: https://dagshub.com/SushrutGaikwad/taxi-demand-prediction.mlflow/#/experiments/0\n"
     ]
    },
    {
     "name": "stderr",
     "output_type": "stream",
     "text": [
      "[I 2025-03-22 00:04:21,825] Trial 46 finished with value: 0.07934790285463529 and parameters: {'model_name': 'LR'}. Best is trial 3 with value: 0.07934790285463529.\n",
      "[I 2025-03-22 00:04:22,852] Trial 47 finished with value: 0.07934790285463529 and parameters: {'model_name': 'LR'}. Best is trial 3 with value: 0.07934790285463529.\n"
     ]
    },
    {
     "name": "stdout",
     "output_type": "stream",
     "text": [
      "🏃 View run delightful-rat-664 at: https://dagshub.com/SushrutGaikwad/taxi-demand-prediction.mlflow/#/experiments/0/runs/335aa9e6eac540c59ec4b6b5cd8b901f\n",
      "🧪 View experiment at: https://dagshub.com/SushrutGaikwad/taxi-demand-prediction.mlflow/#/experiments/0\n",
      "🏃 View run merciful-horse-279 at: https://dagshub.com/SushrutGaikwad/taxi-demand-prediction.mlflow/#/experiments/0/runs/7d5ec838e0b743e1ab5d9bf14eaecd78\n",
      "🧪 View experiment at: https://dagshub.com/SushrutGaikwad/taxi-demand-prediction.mlflow/#/experiments/0\n"
     ]
    },
    {
     "name": "stderr",
     "output_type": "stream",
     "text": [
      "[I 2025-03-22 00:04:26,855] Trial 29 finished with value: 6.569347858428955 and parameters: {'model_name': 'XGBR', 'n_estimators_xgb': 10, 'learning_rate_xgb': 0.00012545899842526844, 'max_depth_xgb': 10}. Best is trial 3 with value: 0.07934790285463529.\n",
      "[I 2025-03-22 00:04:27,820] Trial 48 finished with value: 0.07934790285463529 and parameters: {'model_name': 'LR'}. Best is trial 3 with value: 0.07934790285463529.\n"
     ]
    },
    {
     "name": "stdout",
     "output_type": "stream",
     "text": [
      "🏃 View run legendary-fish-203 at: https://dagshub.com/SushrutGaikwad/taxi-demand-prediction.mlflow/#/experiments/0/runs/6850e6a35d1d4bc2832fd5b1dbbb99eb\n",
      "🧪 View experiment at: https://dagshub.com/SushrutGaikwad/taxi-demand-prediction.mlflow/#/experiments/0\n"
     ]
    },
    {
     "name": "stderr",
     "output_type": "stream",
     "text": [
      "[I 2025-03-22 00:04:29,856] Trial 49 finished with value: 0.07934790285463529 and parameters: {'model_name': 'LR'}. Best is trial 3 with value: 0.07934790285463529.\n",
      "[I 2025-03-22 00:04:30,821] Trial 40 finished with value: 0.3466313143838905 and parameters: {'model_name': 'RF', 'n_estimators_rf': 100, 'max_depth_rf': 4}. Best is trial 3 with value: 0.07934790285463529.\n"
     ]
    },
    {
     "name": "stdout",
     "output_type": "stream",
     "text": [
      "🏃 View run mercurial-slug-599 at: https://dagshub.com/SushrutGaikwad/taxi-demand-prediction.mlflow/#/experiments/0/runs/42666ca3eb48430a9118a95ef4a67ea7\n",
      "🧪 View experiment at: https://dagshub.com/SushrutGaikwad/taxi-demand-prediction.mlflow/#/experiments/0\n"
     ]
    },
    {
     "name": "stderr",
     "output_type": "stream",
     "text": [
      "[I 2025-03-22 00:04:50,849] Trial 38 finished with value: 0.07934790285463529 and parameters: {'model_name': 'LR'}. Best is trial 3 with value: 0.07934790285463529.\n"
     ]
    },
    {
     "name": "stdout",
     "output_type": "stream",
     "text": [
      "🏃 View run capricious-loon-956 at: https://dagshub.com/SushrutGaikwad/taxi-demand-prediction.mlflow/#/experiments/0/runs/997165d085b34559b37ba059e51153a1\n",
      "🧪 View experiment at: https://dagshub.com/SushrutGaikwad/taxi-demand-prediction.mlflow/#/experiments/0\n",
      "🏃 View run abrasive-eel-252 at: https://dagshub.com/SushrutGaikwad/taxi-demand-prediction.mlflow/#/experiments/0/runs/17d5d3535c054ef09cc948eed5260f38\n",
      "🧪 View experiment at: https://dagshub.com/SushrutGaikwad/taxi-demand-prediction.mlflow/#/experiments/0\n",
      "🏃 View run peaceful-sloth-294 at: https://dagshub.com/SushrutGaikwad/taxi-demand-prediction.mlflow/#/experiments/0/runs/00197b12b9894b9083000dfb6fef8c86\n",
      "🧪 View experiment at: https://dagshub.com/SushrutGaikwad/taxi-demand-prediction.mlflow/#/experiments/0\n"
     ]
    },
    {
     "name": "stderr",
     "output_type": "stream",
     "text": [
      "[I 2025-03-22 00:04:59,883] Trial 0 finished with value: 6.560675621032715 and parameters: {'model_name': 'XGBR', 'n_estimators_xgb': 10, 'learning_rate_xgb': 0.0002592839710808767, 'max_depth_xgb': 9}. Best is trial 3 with value: 0.07934790285463529.\n",
      "[I 2025-03-22 00:05:02,854] Trial 22 finished with value: 0.6202397346496582 and parameters: {'model_name': 'XGBR', 'n_estimators_xgb': 50, 'learning_rate_xgb': 0.04917376488672416, 'max_depth_xgb': 6}. Best is trial 3 with value: 0.07934790285463529.\n"
     ]
    },
    {
     "name": "stdout",
     "output_type": "stream",
     "text": [
      "🏃 View run rogue-trout-608 at: https://dagshub.com/SushrutGaikwad/taxi-demand-prediction.mlflow/#/experiments/0/runs/c240c7e9db644f189a980cc1a54ce463\n",
      "🧪 View experiment at: https://dagshub.com/SushrutGaikwad/taxi-demand-prediction.mlflow/#/experiments/0\n"
     ]
    },
    {
     "name": "stderr",
     "output_type": "stream",
     "text": [
      "[I 2025-03-22 00:05:04,822] Trial 9 finished with value: 0.07934790285463529 and parameters: {'model_name': 'LR'}. Best is trial 3 with value: 0.07934790285463529.\n"
     ]
    },
    {
     "name": "stdout",
     "output_type": "stream",
     "text": [
      "🏃 View run flawless-conch-63 at: https://dagshub.com/SushrutGaikwad/taxi-demand-prediction.mlflow/#/experiments/0/runs/c0650b3beb90456d80dd38201f99b386\n",
      "🧪 View experiment at: https://dagshub.com/SushrutGaikwad/taxi-demand-prediction.mlflow/#/experiments/0\n",
      "🏃 View run gentle-steed-541 at: https://dagshub.com/SushrutGaikwad/taxi-demand-prediction.mlflow/#/experiments/0/runs/f1b13896dded4e079a024d48322cbe76\n",
      "🧪 View experiment at: https://dagshub.com/SushrutGaikwad/taxi-demand-prediction.mlflow/#/experiments/0\n"
     ]
    },
    {
     "name": "stderr",
     "output_type": "stream",
     "text": [
      "[I 2025-03-22 00:05:07,849] Trial 6 finished with value: 0.07934790285463529 and parameters: {'model_name': 'LR'}. Best is trial 3 with value: 0.07934790285463529.\n",
      "[I 2025-03-22 00:05:08,822] Trial 4 finished with value: 0.07934790285463529 and parameters: {'model_name': 'LR'}. Best is trial 3 with value: 0.07934790285463529.\n",
      "[I 2025-03-22 00:05:09,848] Trial 20 finished with value: 0.07934790285463529 and parameters: {'model_name': 'LR'}. Best is trial 3 with value: 0.07934790285463529.\n",
      "[I 2025-03-22 00:05:17,842] Trial 7 finished with value: 0.3463017707490639 and parameters: {'model_name': 'RF', 'n_estimators_rf': 60, 'max_depth_rf': 4}. Best is trial 3 with value: 0.07934790285463529.\n",
      "[I 2025-03-22 00:05:50,000] Trial 18 finished with value: 3.4244388762626796 and parameters: {'model_name': 'GBR', 'n_estimators_gb': 80, 'learning_rate_gb': 0.00883764074057375}. Best is trial 3 with value: 0.07934790285463529.\n"
     ]
    },
    {
     "name": "stdout",
     "output_type": "stream",
     "text": [
      "🏃 View run stylish-dog-341 at: https://dagshub.com/SushrutGaikwad/taxi-demand-prediction.mlflow/#/experiments/0/runs/ffba01f1053c438bac8adab03d9066be\n",
      "🧪 View experiment at: https://dagshub.com/SushrutGaikwad/taxi-demand-prediction.mlflow/#/experiments/0\n"
     ]
    },
    {
     "name": "stderr",
     "output_type": "stream",
     "text": [
      "[I 2025-03-22 00:06:07,912] Trial 13 finished with value: 6.499630903026681 and parameters: {'model_name': 'GBR', 'n_estimators_gb': 30, 'learning_rate_gb': 0.00042106519411305206}. Best is trial 3 with value: 0.07934790285463529.\n"
     ]
    },
    {
     "name": "stdout",
     "output_type": "stream",
     "text": [
      "🏃 View run inquisitive-ram-287 at: https://dagshub.com/SushrutGaikwad/taxi-demand-prediction.mlflow/#/experiments/0/runs/08ebc0d1b437408fbd6079fffec15a33\n",
      "🧪 View experiment at: https://dagshub.com/SushrutGaikwad/taxi-demand-prediction.mlflow/#/experiments/0\n",
      "🏃 View run best_model at: https://dagshub.com/SushrutGaikwad/taxi-demand-prediction.mlflow/#/experiments/0/runs/db9c6b4e16eb4806900f86e1524fb938\n",
      "🧪 View experiment at: https://dagshub.com/SushrutGaikwad/taxi-demand-prediction.mlflow/#/experiments/0\n"
     ]
    }
   ],
   "source": [
    "# Optimizing the objective function to get the best model\n",
    "\n",
    "with mlflow.start_run(run_name=\"best_model\", nested=True) as parent:\n",
    "    # Creating a study object\n",
    "    study = optuna.create_study(study_name=\"model_selection\", direction=\"minimize\")\n",
    "    # Optimizing the objective function\n",
    "    study.optimize(func=objective, n_trials=50, n_jobs=-1)\n",
    "\n",
    "    # Log the best parameters\n",
    "    mlflow.log_params(study.best_params)\n",
    "    # Log the best MAPE\n",
    "    mlflow.log_metric(\"best_mape\", study.best_value)"
   ]
  },
  {
   "cell_type": "code",
   "execution_count": 18,
   "id": "fc51d1da-f9c7-4df8-8aeb-2cb0215dcc24",
   "metadata": {},
   "outputs": [
    {
     "name": "stdout",
     "output_type": "stream",
     "text": [
      "The best MAPE is 7.93%.\n"
     ]
    }
   ],
   "source": [
    "# Best MAPE\n",
    "\n",
    "print(f\"The best MAPE is {study.best_value * 100:.2f}%.\")"
   ]
  },
  {
   "cell_type": "code",
   "execution_count": 19,
   "id": "9c9a1d4c-f21d-41d7-9ed2-3d7ee0e81dcb",
   "metadata": {},
   "outputs": [
    {
     "data": {
      "text/plain": [
       "{'model_name': 'LR'}"
      ]
     },
     "execution_count": 19,
     "metadata": {},
     "output_type": "execute_result"
    }
   ],
   "source": [
    "# Best model\n",
    "\n",
    "study.best_params"
   ]
  },
  {
   "cell_type": "code",
   "execution_count": 20,
   "id": "6252c755-f6a1-4f70-94df-f3ed4dbf8bc7",
   "metadata": {},
   "outputs": [
    {
     "data": {
      "text/plain": [
       "params_model_name\n",
       "LR      27\n",
       "XGBR    10\n",
       "GBR      7\n",
       "RF       6\n",
       "Name: count, dtype: int64"
      ]
     },
     "execution_count": 20,
     "metadata": {},
     "output_type": "execute_result"
    }
   ],
   "source": [
    "# Model counts during the optimization\n",
    "\n",
    "study.trials_dataframe()[\"params_model_name\"].value_counts()"
   ]
  },
  {
   "cell_type": "markdown",
   "id": "c51171cd-890a-4627-a8f7-2b747ba52004",
   "metadata": {},
   "source": [
    "# Training the best model"
   ]
  },
  {
   "cell_type": "code",
   "execution_count": 29,
   "id": "4d86918a-b046-4da2-bfbf-6e973a344c3c",
   "metadata": {},
   "outputs": [
    {
     "name": "stdout",
     "output_type": "stream",
     "text": [
      "The training MAPE is 8.78%.\n",
      "The test MAPE is 7.93%.\n"
     ]
    }
   ],
   "source": [
    "regressor = LinearRegression()\n",
    "regressor.fit(X_train_encoded, y_train)\n",
    "\n",
    "# Predictions\n",
    "\n",
    "y_pred_train = regressor.predict(X_train_encoded) \n",
    "y_pred_test = regressor.predict(X_test_encoded)\n",
    "\n",
    "# MAPE\n",
    "\n",
    "mape_train = mean_absolute_percentage_error(y_true=y_train, y_pred=y_pred_train)\n",
    "mape_test = mean_absolute_percentage_error(y_true=y_test, y_pred=y_pred_test)\n",
    "\n",
    "print(f\"The training MAPE is {mape_train*100:.2f}%.\")\n",
    "print(f\"The test MAPE is {mape_test*100:.2f}%.\")"
   ]
  },
  {
   "cell_type": "code",
   "execution_count": 30,
   "id": "0488dc92-2fa7-4e49-a733-dfd6a1c5cc30",
   "metadata": {},
   "outputs": [
    {
     "data": {
      "text/plain": [
       "array([-2.33737604,  0.71512405, -0.55601505, -1.25311068, -3.20463231,\n",
       "       -0.86685973, -2.79925402, -3.62516859,  0.41386463, -2.9376376 ,\n",
       "       -1.97624678, -3.75050442,  0.51806283, -2.54033388, -2.43297463,\n",
       "        0.47632075,  0.61254786, -4.7417372 , -2.03077217, -1.26960984,\n",
       "       -4.03690273, -2.08863167, -1.0414428 ,  0.73561736, -0.99999442,\n",
       "       -0.85944985, -2.43098478,  0.67112238,  0.57385071, -0.11719951,\n",
       "       -0.28045898, -0.37180749, -0.5238324 , -0.4233113 , -0.34045774,\n",
       "       -0.54170892, -0.36264553, -0.2493965 , -0.31905518,  2.4912456 ])"
      ]
     },
     "execution_count": 30,
     "metadata": {},
     "output_type": "execute_result"
    }
   ],
   "source": [
    "regressor.coef_"
   ]
  },
  {
   "cell_type": "markdown",
   "id": "679b6704-83ac-414a-a4e6-1b45c8900ecd",
   "metadata": {},
   "source": [
    "Let us try ridge regression, which is a regularized version of linear regression."
   ]
  },
  {
   "cell_type": "code",
   "execution_count": 31,
   "id": "e8fcc713-01a7-49a9-977a-f5f843ad5481",
   "metadata": {},
   "outputs": [],
   "source": [
    "def tune_ridge(trial):\n",
    "    # Hyperparameter space\n",
    "    alpha = trial.suggest_float(\"alpha\", 30, 100)\n",
    "    \n",
    "    # Model\n",
    "    ridge = Ridge(alpha=alpha, random_state=42)\n",
    "    \n",
    "    # Training\n",
    "    ridge.fit(X_train_encoded, y_train)\n",
    "    \n",
    "    # Predicting\n",
    "    y_pred = ridge.predict(X_test_encoded)\n",
    "    \n",
    "    # MAPE\n",
    "    mape = mean_absolute_percentage_error(y_true=y_test, y_pred=y_pred)\n",
    "\n",
    "    return mape"
   ]
  },
  {
   "cell_type": "code",
   "execution_count": 32,
   "id": "15702cd1-5cd9-40aa-9544-954b8d000699",
   "metadata": {},
   "outputs": [
    {
     "name": "stderr",
     "output_type": "stream",
     "text": [
      "[I 2025-03-22 00:30:08,781] A new study created in memory with name: tune_ridge\n"
     ]
    }
   ],
   "source": [
    "# Create study\n",
    "\n",
    "study = optuna.create_study(study_name=\"tune_ridge\", direction=\"minimize\")"
   ]
  },
  {
   "cell_type": "code",
   "execution_count": 34,
   "id": "d4837f2a-e7c7-4a88-b59d-8c0d2495124d",
   "metadata": {},
   "outputs": [
    {
     "data": {
      "application/vnd.jupyter.widget-view+json": {
       "model_id": "dae4d4ae95a64f41a08c93998965258d",
       "version_major": 2,
       "version_minor": 0
      },
      "text/plain": [
       "  0%|          | 0/100 [00:00<?, ?it/s]"
      ]
     },
     "metadata": {},
     "output_type": "display_data"
    },
    {
     "name": "stdout",
     "output_type": "stream",
     "text": [
      "[I 2025-03-22 00:31:19,858] Trial 45 finished with value: 0.07918544977905692 and parameters: {'alpha': 83.68581987244933}. Best is trial 42 with value: 0.07916408447959469.\n",
      "[I 2025-03-22 00:31:20,064] Trial 46 finished with value: 0.07918567126002436 and parameters: {'alpha': 83.52663433389492}. Best is trial 42 with value: 0.07916408447959469.\n",
      "[I 2025-03-22 00:31:20,095] Trial 47 finished with value: 0.07918311756121663 and parameters: {'alpha': 85.37405241031513}. Best is trial 42 with value: 0.07916408447959469.\n",
      "[I 2025-03-22 00:31:20,135] Trial 51 finished with value: 0.07918458695645363 and parameters: {'alpha': 84.30741244451377}. Best is trial 42 with value: 0.07916408447959469.\n",
      "[I 2025-03-22 00:31:20,176] Trial 49 finished with value: 0.07918238302795762 and parameters: {'alpha': 85.9109455964816}. Best is trial 42 with value: 0.07916408447959469.\n",
      "[I 2025-03-22 00:31:20,206] Trial 48 finished with value: 0.07918748666258128 and parameters: {'alpha': 82.23005242847847}. Best is trial 42 with value: 0.07916408447959469.\n",
      "[I 2025-03-22 00:31:20,240] Trial 55 finished with value: 0.0791820172220504 and parameters: {'alpha': 86.17949703761708}. Best is trial 42 with value: 0.07916408447959469.\n",
      "[I 2025-03-22 00:31:20,241] Trial 57 finished with value: 0.07918657801619879 and parameters: {'alpha': 82.87659578720817}. Best is trial 42 with value: 0.07916408447959469.\n",
      "[I 2025-03-22 00:31:20,309] Trial 59 finished with value: 0.07918402837916609 and parameters: {'alpha': 84.71119020951859}. Best is trial 42 with value: 0.07916408447959469.\n",
      "[I 2025-03-22 00:31:20,312] Trial 53 finished with value: 0.07918397613062642 and parameters: {'alpha': 84.7490761811533}. Best is trial 42 with value: 0.07916408447959469.\n",
      "[I 2025-03-22 00:31:20,320] Trial 52 finished with value: 0.07918343830400698 and parameters: {'alpha': 85.14011772214717}. Best is trial 42 with value: 0.07916408447959469.\n",
      "[I 2025-03-22 00:31:20,322] Trial 58 finished with value: 0.07918147462692043 and parameters: {'alpha': 86.57860678984254}. Best is trial 42 with value: 0.07916408447959469.\n",
      "[I 2025-03-22 00:31:20,354] Trial 50 finished with value: 0.07918390319228032 and parameters: {'alpha': 84.80196710513992}. Best is trial 42 with value: 0.07916408447959469.\n",
      "[I 2025-03-22 00:31:20,360] Trial 56 finished with value: 0.0791867807327711 and parameters: {'alpha': 82.73197675638119}. Best is trial 42 with value: 0.07916408447959469.\n",
      "[I 2025-03-22 00:31:20,374] Trial 60 finished with value: 0.07918477982458055 and parameters: {'alpha': 84.16832829706217}. Best is trial 42 with value: 0.07916408447959469.\n",
      "[I 2025-03-22 00:31:20,374] Trial 61 finished with value: 0.079184235541086 and parameters: {'alpha': 84.5612863041349}. Best is trial 42 with value: 0.07916408447959469.\n",
      "[I 2025-03-22 00:31:20,382] Trial 54 finished with value: 0.07918365357298737 and parameters: {'alpha': 84.98341350883231}. Best is trial 42 with value: 0.07916408447959469.\n",
      "[I 2025-03-22 00:31:20,383] Trial 62 finished with value: 0.07918456830755076 and parameters: {'alpha': 84.32087192662837}. Best is trial 42 with value: 0.07916408447959469.\n",
      "[I 2025-03-22 00:31:20,467] Trial 64 finished with value: 0.07918190653323443 and parameters: {'alpha': 86.26086905878395}. Best is trial 42 with value: 0.07916408447959469.\n",
      "[I 2025-03-22 00:31:20,485] Trial 65 finished with value: 0.07918202853007515 and parameters: {'alpha': 86.171193952165}. Best is trial 42 with value: 0.07916408447959469.\n",
      "[I 2025-03-22 00:31:20,504] Trial 66 finished with value: 0.079181781839749 and parameters: {'alpha': 86.35258048938553}. Best is trial 42 with value: 0.07916408447959469.\n",
      "[I 2025-03-22 00:31:20,518] Trial 63 finished with value: 0.07918333354854443 and parameters: {'alpha': 85.21647703260032}. Best is trial 42 with value: 0.07916408447959469.\n",
      "[I 2025-03-22 00:31:20,567] Trial 68 finished with value: 0.07918131891276715 and parameters: {'alpha': 86.69326082368069}. Best is trial 42 with value: 0.07916408447959469.\n",
      "[I 2025-03-22 00:31:20,571] Trial 67 finished with value: 0.07918252468292505 and parameters: {'alpha': 85.80717522513406}. Best is trial 42 with value: 0.07916408447959469.\n",
      "[I 2025-03-22 00:31:20,605] Trial 69 finished with value: 0.07916469183264596 and parameters: {'alpha': 99.48993621900289}. Best is trial 42 with value: 0.07916408447959469.\n",
      "[I 2025-03-22 00:31:20,693] Trial 70 finished with value: 0.07916412834788716 and parameters: {'alpha': 99.94885135764186}. Best is trial 42 with value: 0.07916408447959469.\n",
      "[I 2025-03-22 00:31:20,758] Trial 71 finished with value: 0.07916465261537746 and parameters: {'alpha': 99.52186454074285}. Best is trial 42 with value: 0.07916408447959469.\n",
      "[I 2025-03-22 00:31:20,802] Trial 72 finished with value: 0.07916489001700062 and parameters: {'alpha': 99.32859905655425}. Best is trial 42 with value: 0.07916408447959469.\n",
      "[I 2025-03-22 00:31:20,825] Trial 74 finished with value: 0.07916475287555921 and parameters: {'alpha': 99.44024040578847}. Best is trial 42 with value: 0.07916408447959469.\n",
      "[I 2025-03-22 00:31:20,885] Trial 73 finished with value: 0.07916474633722925 and parameters: {'alpha': 99.44556325064217}. Best is trial 42 with value: 0.07916408447959469.\n",
      "[I 2025-03-22 00:31:20,886] Trial 75 finished with value: 0.079164613001519 and parameters: {'alpha': 99.55411657427594}. Best is trial 42 with value: 0.07916408447959469.\n",
      "[I 2025-03-22 00:31:20,890] Trial 76 finished with value: 0.07916478436061625 and parameters: {'alpha': 99.41460879769339}. Best is trial 42 with value: 0.07916408447959469.\n",
      "[I 2025-03-22 00:31:20,918] Trial 77 finished with value: 0.07916435481212035 and parameters: {'alpha': 99.76438321740982}. Best is trial 42 with value: 0.07916408447959469.\n",
      "[I 2025-03-22 00:31:20,950] Trial 78 finished with value: 0.07916434838449957 and parameters: {'alpha': 99.7696185097664}. Best is trial 42 with value: 0.07916408447959469.\n",
      "[I 2025-03-22 00:31:20,955] Trial 80 finished with value: 0.07916462281065755 and parameters: {'alpha': 99.54613028546842}. Best is trial 42 with value: 0.07916408447959469.\n",
      "[I 2025-03-22 00:31:21,007] Trial 79 finished with value: 0.07916432734000022 and parameters: {'alpha': 99.78675938519196}. Best is trial 42 with value: 0.07916408447959469.\n",
      "[I 2025-03-22 00:31:21,062] Trial 81 finished with value: 0.07916419357579164 and parameters: {'alpha': 99.89571667409557}. Best is trial 42 with value: 0.07916408447959469.\n",
      "[I 2025-03-22 00:31:21,218] Trial 82 finished with value: 0.07916413422485451 and parameters: {'alpha': 99.94406388557802}. Best is trial 42 with value: 0.07916408447959469.\n",
      "[I 2025-03-22 00:31:21,224] Trial 83 finished with value: 0.07916412246863061 and parameters: {'alpha': 99.95364071383328}. Best is trial 42 with value: 0.07916408447959469.\n",
      "[I 2025-03-22 00:31:21,229] Trial 84 finished with value: 0.07916528663605835 and parameters: {'alpha': 99.00641242734078}. Best is trial 42 with value: 0.07916408447959469.\n",
      "[I 2025-03-22 00:31:21,234] Trial 86 finished with value: 0.07917677231953756 and parameters: {'alpha': 90.06936429486541}. Best is trial 42 with value: 0.07916408447959469.\n",
      "[I 2025-03-22 00:31:21,280] Trial 85 finished with value: 0.07917739651564171 and parameters: {'alpha': 89.60259648917612}. Best is trial 42 with value: 0.07916408447959469.\n",
      "[I 2025-03-22 00:31:21,328] Trial 87 finished with value: 0.07917811103545186 and parameters: {'alpha': 89.06999183030172}. Best is trial 42 with value: 0.07916408447959469.\n",
      "[I 2025-03-22 00:31:21,435] Trial 89 finished with value: 0.07917646422496258 and parameters: {'alpha': 90.30018353063049}. Best is trial 42 with value: 0.07916408447959469.\n",
      "[I 2025-03-22 00:31:21,471] Trial 88 finished with value: 0.07917635413756172 and parameters: {'alpha': 90.38284279360975}. Best is trial 42 with value: 0.07916408447959469.\n",
      "[I 2025-03-22 00:31:21,509] Trial 92 finished with value: 0.07916885949266016 and parameters: {'alpha': 96.14276292618021}. Best is trial 42 with value: 0.07916408447959469.\n",
      "[I 2025-03-22 00:31:21,513] Trial 90 finished with value: 0.07916839123628118 and parameters: {'alpha': 96.5146156283152}. Best is trial 42 with value: 0.07916408447959469.\n",
      "[I 2025-03-22 00:31:21,541] Trial 91 finished with value: 0.07916859207078737 and parameters: {'alpha': 96.35511263497627}. Best is trial 42 with value: 0.07916408447959469.\n",
      "[I 2025-03-22 00:31:21,659] Trial 95 finished with value: 0.07916916601518202 and parameters: {'alpha': 95.89941629786388}. Best is trial 42 with value: 0.07916408447959469.\n",
      "[I 2025-03-22 00:31:21,687] Trial 93 finished with value: 0.07917652984268717 and parameters: {'alpha': 90.25096504934942}. Best is trial 42 with value: 0.07916408447959469.\n",
      "[I 2025-03-22 00:31:21,709] Trial 97 finished with value: 0.07916880824865909 and parameters: {'alpha': 96.18345002470164}. Best is trial 42 with value: 0.07916408447959469.\n",
      "[I 2025-03-22 00:31:21,743] Trial 94 finished with value: 0.07916876133033604 and parameters: {'alpha': 96.22070472315013}. Best is trial 42 with value: 0.07916408447959469.\n",
      "[I 2025-03-22 00:31:21,786] Trial 96 finished with value: 0.07916876678193631 and parameters: {'alpha': 96.21637588529137}. Best is trial 42 with value: 0.07916408447959469.\n",
      "[I 2025-03-22 00:31:21,794] Trial 99 finished with value: 0.07916900196247673 and parameters: {'alpha': 96.02965082596864}. Best is trial 42 with value: 0.07916408447959469.\n",
      "[I 2025-03-22 00:31:21,800] Trial 100 finished with value: 0.0791688268994711 and parameters: {'alpha': 96.16864135573978}. Best is trial 42 with value: 0.07916408447959469.\n",
      "[I 2025-03-22 00:31:21,859] Trial 98 finished with value: 0.07916891935269535 and parameters: {'alpha': 96.09523653508847}. Best is trial 42 with value: 0.07916408447959469.\n",
      "[I 2025-03-22 00:31:21,859] Trial 102 finished with value: 0.07916906351968606 and parameters: {'alpha': 95.9807815155268}. Best is trial 42 with value: 0.07916408447959469.\n",
      "[I 2025-03-22 00:31:21,864] Trial 101 finished with value: 0.07916915757205305 and parameters: {'alpha': 95.90611860383252}. Best is trial 42 with value: 0.07916408447959469.\n",
      "[I 2025-03-22 00:31:21,892] Trial 103 finished with value: 0.07916823352362408 and parameters: {'alpha': 96.63991830613185}. Best is trial 42 with value: 0.07916408447959469.\n",
      "[I 2025-03-22 00:31:21,995] Trial 104 finished with value: 0.07916962739104938 and parameters: {'alpha': 95.53325121459343}. Best is trial 42 with value: 0.07916408447959469.\n",
      "[I 2025-03-22 00:31:22,057] Trial 106 finished with value: 0.07916998563962752 and parameters: {'alpha': 95.25158998079645}. Best is trial 42 with value: 0.07916408447959469.\n",
      "[I 2025-03-22 00:31:22,066] Trial 107 finished with value: 0.07916723786652932 and parameters: {'alpha': 97.43393025488605}. Best is trial 42 with value: 0.07916408447959469.\n",
      "[I 2025-03-22 00:31:22,129] Trial 108 finished with value: 0.07916703994964704 and parameters: {'alpha': 97.59263975840825}. Best is trial 42 with value: 0.07916408447959469.\n",
      "[I 2025-03-22 00:31:22,132] Trial 105 finished with value: 0.07917020749455517 and parameters: {'alpha': 95.07820116549595}. Best is trial 42 with value: 0.07916408447959469.\n",
      "[I 2025-03-22 00:31:22,219] Trial 109 finished with value: 0.07917435365737929 and parameters: {'alpha': 91.89295511555754}. Best is trial 42 with value: 0.07916408447959469.\n",
      "[I 2025-03-22 00:31:22,219] Trial 110 finished with value: 0.07917425612188357 and parameters: {'alpha': 91.96683983337013}. Best is trial 42 with value: 0.07916408447959469.\n",
      "[I 2025-03-22 00:31:22,307] Trial 111 finished with value: 0.07917426457028558 and parameters: {'alpha': 91.96043964239534}. Best is trial 42 with value: 0.07916408447959469.\n",
      "[I 2025-03-22 00:31:22,375] Trial 113 finished with value: 0.07916684359491807 and parameters: {'alpha': 97.7507019447761}. Best is trial 42 with value: 0.07916408447959469.\n",
      "[I 2025-03-22 00:31:22,394] Trial 114 finished with value: 0.07916693298006654 and parameters: {'alpha': 97.67873175632347}. Best is trial 42 with value: 0.07916408447959469.\n",
      "[I 2025-03-22 00:31:22,417] Trial 112 finished with value: 0.07920284162157469 and parameters: {'alpha': 71.64273064847508}. Best is trial 42 with value: 0.07916408447959469.\n",
      "[I 2025-03-22 00:31:22,494] Trial 116 finished with value: 0.07916666418294468 and parameters: {'alpha': 97.89519652031585}. Best is trial 42 with value: 0.07916408447959469.\n",
      "[I 2025-03-22 00:31:22,503] Trial 115 finished with value: 0.07917365873645382 and parameters: {'alpha': 92.42035763141828}. Best is trial 42 with value: 0.07916408447959469.\n",
      "[I 2025-03-22 00:31:22,515] Trial 117 finished with value: 0.07917411529754702 and parameters: {'alpha': 92.07360604980126}. Best is trial 42 with value: 0.07916408447959469.\n",
      "[I 2025-03-22 00:31:22,555] Trial 119 finished with value: 0.07917348809106833 and parameters: {'alpha': 92.55008884950502}. Best is trial 42 with value: 0.07916408447959469.\n",
      "[I 2025-03-22 00:31:22,556] Trial 118 finished with value: 0.07917387413306183 and parameters: {'alpha': 92.25667303553624}. Best is trial 42 with value: 0.07916408447959469.\n",
      "[I 2025-03-22 00:31:22,561] Trial 120 finished with value: 0.07917440164494843 and parameters: {'alpha': 91.85661603374918}. Best is trial 42 with value: 0.07916408447959469.\n",
      "[I 2025-03-22 00:31:22,715] Trial 122 finished with value: 0.07917409287814815 and parameters: {'alpha': 92.09061163491162}. Best is trial 42 with value: 0.07916408447959469.\n",
      "[I 2025-03-22 00:31:22,729] Trial 123 finished with value: 0.07920184160253275 and parameters: {'alpha': 72.31721320318238}. Best is trial 42 with value: 0.07916408447959469.\n",
      "[I 2025-03-22 00:31:22,747] Trial 124 finished with value: 0.07916628346978909 and parameters: {'alpha': 98.2019493589751}. Best is trial 42 with value: 0.07916408447959469.\n",
      "[I 2025-03-22 00:31:22,890] Trial 121 finished with value: 0.0791740124803322 and parameters: {'alpha': 92.15159716665032}. Best is trial 42 with value: 0.07916408447959469.\n",
      "[I 2025-03-22 00:31:22,892] Trial 126 finished with value: 0.07916675888444294 and parameters: {'alpha': 97.81892382727685}. Best is trial 42 with value: 0.07916408447959469.\n",
      "[I 2025-03-22 00:31:22,913] Trial 127 finished with value: 0.07921912920724533 and parameters: {'alpha': 61.04481085126765}. Best is trial 42 with value: 0.07916408447959469.\n",
      "[I 2025-03-22 00:31:22,914] Trial 128 finished with value: 0.07917135497504703 and parameters: {'alpha': 94.18519106756897}. Best is trial 42 with value: 0.07916408447959469.\n",
      "[I 2025-03-22 00:31:22,916] Trial 129 finished with value: 0.07916408844725065 and parameters: {'alpha': 99.98135555269327}. Best is trial 42 with value: 0.07916408447959469.\n",
      "[I 2025-03-22 00:31:22,968] Trial 131 finished with value: 0.07917170519125573 and parameters: {'alpha': 93.91438674159811}. Best is trial 42 with value: 0.07916408447959469.\n",
      "[I 2025-03-22 00:31:22,973] Trial 125 finished with value: 0.07920504077528832 and parameters: {'alpha': 70.16699725804399}. Best is trial 42 with value: 0.07916408447959469.\n",
      "[I 2025-03-22 00:31:22,997] Trial 130 finished with value: 0.07916409548235273 and parameters: {'alpha': 99.97562449624292}. Best is trial 42 with value: 0.07916408447959469.\n",
      "[I 2025-03-22 00:31:23,025] Trial 133 finished with value: 0.07916407101110186 and parameters: {'alpha': 99.99555980666432}. Best is trial 133 with value: 0.07916407101110186.\n",
      "[I 2025-03-22 00:31:23,144] Trial 132 finished with value: 0.07917142160689719 and parameters: {'alpha': 94.13351909033815}. Best is trial 133 with value: 0.07916407101110186.\n",
      "[I 2025-03-22 00:31:23,151] Trial 135 finished with value: 0.07916463587966915 and parameters: {'alpha': 99.53548998847663}. Best is trial 133 with value: 0.07916407101110186.\n",
      "[I 2025-03-22 00:31:23,157] Trial 134 finished with value: 0.07916420612165713 and parameters: {'alpha': 99.88549706713604}. Best is trial 133 with value: 0.07916407101110186.\n",
      "[I 2025-03-22 00:31:23,174] Trial 136 finished with value: 0.0791647488546074 and parameters: {'alpha': 99.44351385679366}. Best is trial 133 with value: 0.07916407101110186.\n",
      "[I 2025-03-22 00:31:23,195] Trial 138 finished with value: 0.07916429163855122 and parameters: {'alpha': 99.81583897463207}. Best is trial 133 with value: 0.07916407101110186.\n",
      "[I 2025-03-22 00:31:23,199] Trial 137 finished with value: 0.0791641146776119 and parameters: {'alpha': 99.95998745889078}. Best is trial 133 with value: 0.07916407101110186.\n",
      "[I 2025-03-22 00:31:23,294] Trial 139 finished with value: 0.07916445559568094 and parameters: {'alpha': 99.68229801042655}. Best is trial 133 with value: 0.07916407101110186.\n",
      "[I 2025-03-22 00:31:23,299] Trial 140 finished with value: 0.07916423187952577 and parameters: {'alpha': 99.86451549178827}. Best is trial 133 with value: 0.07916407101110186.\n",
      "[I 2025-03-22 00:31:23,333] Trial 141 finished with value: 0.07916451450708115 and parameters: {'alpha': 99.63431894041972}. Best is trial 133 with value: 0.07916407101110186.\n",
      "[I 2025-03-22 00:31:23,337] Trial 142 finished with value: 0.07916458603058286 and parameters: {'alpha': 99.57607572277178}. Best is trial 133 with value: 0.07916407101110186.\n",
      "[I 2025-03-22 00:31:23,343] Trial 143 finished with value: 0.07916420303362134 and parameters: {'alpha': 99.88801251047819}. Best is trial 133 with value: 0.07916407101110186.\n",
      "[I 2025-03-22 00:31:23,351] Trial 144 finished with value: 0.07916408916785564 and parameters: {'alpha': 99.98076852049664}. Best is trial 133 with value: 0.07916407101110186.\n"
     ]
    }
   ],
   "source": [
    "# optimize\n",
    "\n",
    "study.optimize(func=tune_ridge, n_trials=100, n_jobs=-1, show_progress_bar=True)"
   ]
  },
  {
   "cell_type": "code",
   "execution_count": 35,
   "id": "2f1ab8db-ba4e-46bf-8d05-d895ca87844e",
   "metadata": {},
   "outputs": [
    {
     "data": {
      "text/plain": [
       "{'alpha': 99.99555980666432}"
      ]
     },
     "execution_count": 35,
     "metadata": {},
     "output_type": "execute_result"
    }
   ],
   "source": [
    "# Best parameters\n",
    "\n",
    "study.best_params"
   ]
  },
  {
   "cell_type": "code",
   "execution_count": 37,
   "id": "aec0799f-c783-4942-9c77-103eb49ea50d",
   "metadata": {},
   "outputs": [
    {
     "name": "stdout",
     "output_type": "stream",
     "text": [
      "The best MAPE using ridge regression is 7.92%.\n"
     ]
    }
   ],
   "source": [
    "# Best MAPE\n",
    "\n",
    "print(f\"The best MAPE using ridge regression is {study.best_value*100:.2f}%.\")"
   ]
  },
  {
   "cell_type": "markdown",
   "id": "73d1e68f-97f1-49ab-a88c-41b3944b9bec",
   "metadata": {},
   "source": [
    "So we will go with the linear regression model. We won't do any hyperparameter tuning for it as it does not have any hyperparameters."
   ]
  },
  {
   "cell_type": "code",
   "execution_count": null,
   "id": "ae2c79d3-b4aa-4b56-8f68-edecabd2a73f",
   "metadata": {},
   "outputs": [],
   "source": []
  }
 ],
 "metadata": {
  "kernelspec": {
   "display_name": "Python 3 (ipykernel)",
   "language": "python",
   "name": "python3"
  },
  "language_info": {
   "codemirror_mode": {
    "name": "ipython",
    "version": 3
   },
   "file_extension": ".py",
   "mimetype": "text/x-python",
   "name": "python",
   "nbconvert_exporter": "python",
   "pygments_lexer": "ipython3",
   "version": "3.11.11"
  }
 },
 "nbformat": 4,
 "nbformat_minor": 5
}
