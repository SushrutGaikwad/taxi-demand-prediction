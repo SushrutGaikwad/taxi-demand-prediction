{
 "cells": [
  {
   "cell_type": "markdown",
   "id": "01771a5f-b0ca-4ece-b75b-61b7620215cd",
   "metadata": {},
   "source": [
    "# Loading the packages"
   ]
  },
  {
   "cell_type": "code",
   "execution_count": 1,
   "id": "1f628d25-a5da-4304-923d-7b3c580b4bfd",
   "metadata": {},
   "outputs": [],
   "source": [
    "import numpy as np\n",
    "import pandas as pd\n",
    "import seaborn as sns\n",
    "import dask.dataframe as dd\n",
    "import matplotlib.pyplot as plt\n",
    "\n",
    "sns.set_style(\"whitegrid\")"
   ]
  },
  {
   "cell_type": "markdown",
   "id": "5d4ac29b-2fd4-4c1b-baf0-5394c6e7879d",
   "metadata": {},
   "source": [
    "# Importing the data"
   ]
  },
  {
   "cell_type": "code",
   "execution_count": 4,
   "id": "bb65607b-9426-4792-a5aa-99b7052cd833",
   "metadata": {},
   "outputs": [],
   "source": [
    "df_jan_path = \"../data/raw/yellow_tripdata_2016-01.csv\"\n",
    "df_feb_path = \"../data/raw/yellow_tripdata_2016-02.csv\"\n",
    "df_mar_path = \"../data/raw/yellow_tripdata_2016-03.csv\"\n",
    "\n",
    "usecols = [\"trip_distance\", \"pickup_longitude\", \"pickup_latitude\", \"dropoff_longitude\", \"dropoff_latitude\", \"fare_amount\"]\n",
    "\n",
    "df_jan = dd.read_csv(df_jan_path, assume_missing=True, usecols=usecols)\n",
    "df_feb = dd.read_csv(df_feb_path, assume_missing=True, usecols=usecols)\n",
    "df_mar = dd.read_csv(df_mar_path, assume_missing=True, usecols=usecols)"
   ]
  },
  {
   "cell_type": "code",
   "execution_count": 5,
   "id": "2932220d-d9bb-4662-9fd1-f0ab9145c833",
   "metadata": {},
   "outputs": [
    {
     "data": {
      "text/html": [
       "<div><strong>Dask DataFrame Structure:</strong></div>\n",
       "<table border=\"1\" class=\"dataframe\">\n",
       "  <thead>\n",
       "    <tr style=\"text-align: right;\">\n",
       "      <th></th>\n",
       "      <th>trip_distance</th>\n",
       "      <th>pickup_longitude</th>\n",
       "      <th>pickup_latitude</th>\n",
       "      <th>dropoff_longitude</th>\n",
       "      <th>dropoff_latitude</th>\n",
       "      <th>fare_amount</th>\n",
       "    </tr>\n",
       "    <tr>\n",
       "      <th>npartitions=82</th>\n",
       "      <th></th>\n",
       "      <th></th>\n",
       "      <th></th>\n",
       "      <th></th>\n",
       "      <th></th>\n",
       "      <th></th>\n",
       "    </tr>\n",
       "  </thead>\n",
       "  <tbody>\n",
       "    <tr>\n",
       "      <th></th>\n",
       "      <td>float64</td>\n",
       "      <td>float64</td>\n",
       "      <td>float64</td>\n",
       "      <td>float64</td>\n",
       "      <td>float64</td>\n",
       "      <td>float64</td>\n",
       "    </tr>\n",
       "    <tr>\n",
       "      <th></th>\n",
       "      <td>...</td>\n",
       "      <td>...</td>\n",
       "      <td>...</td>\n",
       "      <td>...</td>\n",
       "      <td>...</td>\n",
       "      <td>...</td>\n",
       "    </tr>\n",
       "    <tr>\n",
       "      <th>...</th>\n",
       "      <td>...</td>\n",
       "      <td>...</td>\n",
       "      <td>...</td>\n",
       "      <td>...</td>\n",
       "      <td>...</td>\n",
       "      <td>...</td>\n",
       "    </tr>\n",
       "    <tr>\n",
       "      <th></th>\n",
       "      <td>...</td>\n",
       "      <td>...</td>\n",
       "      <td>...</td>\n",
       "      <td>...</td>\n",
       "      <td>...</td>\n",
       "      <td>...</td>\n",
       "    </tr>\n",
       "    <tr>\n",
       "      <th></th>\n",
       "      <td>...</td>\n",
       "      <td>...</td>\n",
       "      <td>...</td>\n",
       "      <td>...</td>\n",
       "      <td>...</td>\n",
       "      <td>...</td>\n",
       "    </tr>\n",
       "  </tbody>\n",
       "</table>\n",
       "<div>Dask Name: concat, 7 expressions</div>"
      ],
      "text/plain": [
       "Dask DataFrame Structure:\n",
       "               trip_distance pickup_longitude pickup_latitude dropoff_longitude dropoff_latitude fare_amount\n",
       "npartitions=82                                                                                              \n",
       "                     float64          float64         float64           float64          float64     float64\n",
       "                         ...              ...             ...               ...              ...         ...\n",
       "...                      ...              ...             ...               ...              ...         ...\n",
       "                         ...              ...             ...               ...              ...         ...\n",
       "                         ...              ...             ...               ...              ...         ...\n",
       "Dask Name: concat, 7 expressions\n",
       "Expr=Concat(frames=[ArrowStringConversion(frame=FromMapProjectable(e0facb1)), ArrowStringConversion(frame=FromMapProjectable(2814a38)), ArrowStringConversion(frame=FromMapProjectable(e9b56ae))], )"
      ]
     },
     "execution_count": 5,
     "metadata": {},
     "output_type": "execute_result"
    }
   ],
   "source": [
    "df = dd.concat([df_jan, df_feb, df_mar], axis=0)\n",
    "df"
   ]
  },
  {
   "cell_type": "markdown",
   "id": "1d1dc3d1-e2ea-4c20-90c4-8c7dfd3421ce",
   "metadata": {},
   "source": [
    "# Bounds"
   ]
  },
  {
   "cell_type": "markdown",
   "id": "117c733d-a6ab-4373-aeb2-3675cc7774bb",
   "metadata": {},
   "source": [
    "The latitude and longitude bounds of NYC are:\n",
    "* Minimum latitude = 40.60\n",
    "* Maximum latitude = 40.85\n",
    "* Minimum longitude = -74.05\n",
    "* Maximum longitude = -73.70"
   ]
  },
  {
   "cell_type": "code",
   "execution_count": 6,
   "id": "de2f85ac-a33b-4762-b5c1-5a2a181b8e30",
   "metadata": {},
   "outputs": [],
   "source": [
    "min_lat = 40.60\n",
    "max_lat = 40.85\n",
    "min_lon = -74.05\n",
    "max_lon = -73.70"
   ]
  },
  {
   "cell_type": "code",
   "execution_count": 7,
   "id": "7a5634eb-93ec-4c1f-b234-5498c8c5b09d",
   "metadata": {},
   "outputs": [],
   "source": [
    "# `fare_amount` and `trip_distance` columns\n",
    "\n",
    "fare_amount = df[\"fare_amount\"].compute()\n",
    "trip_distance = df[\"trip_distance\"].compute()"
   ]
  },
  {
   "cell_type": "markdown",
   "id": "def02a84-d1e6-4758-a467-c07cdd7ac695",
   "metadata": {},
   "source": [
    "Let us check the number of columns."
   ]
  },
  {
   "cell_type": "code",
   "execution_count": 8,
   "id": "2dd98719-e3ed-4661-af89-f4f9cf5b34f0",
   "metadata": {},
   "outputs": [
    {
     "data": {
      "text/plain": [
       "34499859"
      ]
     },
     "execution_count": 8,
     "metadata": {},
     "output_type": "execute_result"
    }
   ],
   "source": [
    "fare_amount.shape[0]"
   ]
  },
  {
   "cell_type": "markdown",
   "id": "caba8892-358d-4f11-8e97-c5a9efe1d4fe",
   "metadata": {},
   "source": [
    "Let us check the percentile values for fare amount."
   ]
  },
  {
   "cell_type": "code",
   "execution_count": 10,
   "id": "2fb10e20-3340-4f21-9a4f-eef9d5a34ff8",
   "metadata": {},
   "outputs": [
    {
     "data": {
      "text/plain": [
       "0.991        52.00\n",
       "0.992        52.00\n",
       "0.993        52.00\n",
       "0.994        52.00\n",
       "0.995        54.00\n",
       "0.996        58.50\n",
       "0.997        63.00\n",
       "0.998        69.00\n",
       "0.999        81.00\n",
       "1.000    429496.72\n",
       "Name: fare_amount, dtype: float64"
      ]
     },
     "execution_count": 10,
     "metadata": {},
     "output_type": "execute_result"
    }
   ],
   "source": [
    "percentile_values = np.arange(0.991,1.000, 0.001)\n",
    "fare_amount.quantile(percentile_values)"
   ]
  },
  {
   "cell_type": "markdown",
   "id": "7e3f801d-c20c-4296-8c38-840f2a57e424",
   "metadata": {},
   "source": [
    "I will choose the 99.9th percentile as the maximum value for `fare_amount`. I will consider anything lying above it as an outlier and drop it. Further, the NYC TLC states that the minimum fare is $0.5. So, I will set these as the bounds for `fare_amount`."
   ]
  },
  {
   "cell_type": "code",
   "execution_count": 11,
   "id": "9eeecf66-ddca-490f-aea0-7e19bd1f9906",
   "metadata": {},
   "outputs": [
    {
     "name": "stdout",
     "output_type": "stream",
     "text": [
      "The maximum `fare_amount` is $81.0, and the minimum `fare_amount` is $0.5.\n"
     ]
    }
   ],
   "source": [
    "max_fare_amount = fare_amount.quantile(percentile_values).iloc[-2].item()\n",
    "min_fare_amount = 0.5\n",
    "\n",
    "print(f\"The maximum `fare_amount` is ${max_fare_amount}, and the minimum `fare_amount` is ${min_fare_amount}.\")"
   ]
  },
  {
   "cell_type": "markdown",
   "id": "1abf0723-82c7-4f93-b8e9-93a3053dd875",
   "metadata": {},
   "source": [
    "Let us do the same for `trip_distance`."
   ]
  },
  {
   "cell_type": "code",
   "execution_count": 12,
   "id": "25718c20-156d-4da1-a271-d2400b6d52a8",
   "metadata": {},
   "outputs": [
    {
     "data": {
      "text/plain": [
       "0.991          18.80\n",
       "0.992          19.00\n",
       "0.993          19.30\n",
       "0.994          19.63\n",
       "0.995          20.04\n",
       "0.996          20.51\n",
       "0.997          21.10\n",
       "0.998          21.90\n",
       "0.999          24.43\n",
       "1.000    19072628.80\n",
       "Name: trip_distance, dtype: float64"
      ]
     },
     "execution_count": 12,
     "metadata": {},
     "output_type": "execute_result"
    }
   ],
   "source": [
    "trip_distance.quantile(percentile_values)"
   ]
  },
  {
   "cell_type": "markdown",
   "id": "66f9554e-24a9-4a3d-ba70-1cdb7ca17294",
   "metadata": {},
   "source": [
    "I will again choose the 99.9th percentile as the maximum value for `trip_distance`. Again, the NYC TLC states that the minimum trip distance is 0.25 miles. So, I will set these bounds for `trip_distance`."
   ]
  },
  {
   "cell_type": "code",
   "execution_count": 14,
   "id": "475a7780-9d9e-4b47-913f-554645e1df69",
   "metadata": {},
   "outputs": [
    {
     "name": "stdout",
     "output_type": "stream",
     "text": [
      "The maximum `trip_distance` is 24.43 miles, and the minimum `trip_distance` is 0.25 miles.\n"
     ]
    }
   ],
   "source": [
    "max_trip_distance = trip_distance.quantile(percentile_values).iloc[-2].item()\n",
    "min_trip_distance = 0.25\n",
    "\n",
    "print(f\"The maximum `trip_distance` is {max_trip_distance} miles, and the minimum `trip_distance` is {min_trip_distance} miles.\")"
   ]
  },
  {
   "cell_type": "markdown",
   "id": "4d0d359f-88c1-4afd-92ef-7ceb0c9e1e2f",
   "metadata": {},
   "source": [
    "# Removing Outliers"
   ]
  },
  {
   "cell_type": "code",
   "execution_count": 15,
   "id": "ffdd6afc-15b0-4803-98fc-1d1e4e1f2996",
   "metadata": {},
   "outputs": [],
   "source": [
    "df = df.loc[\n",
    "    (df[\"pickup_latitude\"].between(min_lat, max_lat, inclusive=\"both\")) & \n",
    "    (df[\"pickup_longitude\"].between(min_lon, max_lon, inclusive=\"both\")) & \n",
    "    (df[\"dropoff_latitude\"].between(min_lat, max_lat, inclusive=\"both\")) & \n",
    "    (df[\"dropoff_longitude\"].between(min_lon, max_lon, inclusive=\"both\")),\n",
    "    :\n",
    "]\n",
    "df = df.loc[\n",
    "    (df[\"fare_amount\"].between(min_fare_amount, max_fare_amount, inclusive=\"both\")) & \n",
    "    (df[\"trip_distance\"].between(min_trip_distance, max_trip_distance, inclusive=\"both\")),\n",
    "    :\n",
    "]"
   ]
  },
  {
   "cell_type": "markdown",
   "id": "1db49974-690f-455a-98a3-96c178f103ca",
   "metadata": {},
   "source": [
    "## Location subset"
   ]
  },
  {
   "cell_type": "code",
   "execution_count": 16,
   "id": "34083112-bf6f-400e-97d9-1cb19edac89c",
   "metadata": {},
   "outputs": [
    {
     "data": {
      "text/html": [
       "<div><strong>Dask DataFrame Structure:</strong></div>\n",
       "<table border=\"1\" class=\"dataframe\">\n",
       "  <thead>\n",
       "    <tr style=\"text-align: right;\">\n",
       "      <th></th>\n",
       "      <th>pickup_latitude</th>\n",
       "      <th>pickup_longitude</th>\n",
       "      <th>dropoff_latitude</th>\n",
       "      <th>dropoff_longitude</th>\n",
       "    </tr>\n",
       "    <tr>\n",
       "      <th>npartitions=82</th>\n",
       "      <th></th>\n",
       "      <th></th>\n",
       "      <th></th>\n",
       "      <th></th>\n",
       "    </tr>\n",
       "  </thead>\n",
       "  <tbody>\n",
       "    <tr>\n",
       "      <th></th>\n",
       "      <td>float64</td>\n",
       "      <td>float64</td>\n",
       "      <td>float64</td>\n",
       "      <td>float64</td>\n",
       "    </tr>\n",
       "    <tr>\n",
       "      <th></th>\n",
       "      <td>...</td>\n",
       "      <td>...</td>\n",
       "      <td>...</td>\n",
       "      <td>...</td>\n",
       "    </tr>\n",
       "    <tr>\n",
       "      <th>...</th>\n",
       "      <td>...</td>\n",
       "      <td>...</td>\n",
       "      <td>...</td>\n",
       "      <td>...</td>\n",
       "    </tr>\n",
       "    <tr>\n",
       "      <th></th>\n",
       "      <td>...</td>\n",
       "      <td>...</td>\n",
       "      <td>...</td>\n",
       "      <td>...</td>\n",
       "    </tr>\n",
       "    <tr>\n",
       "      <th></th>\n",
       "      <td>...</td>\n",
       "      <td>...</td>\n",
       "      <td>...</td>\n",
       "      <td>...</td>\n",
       "    </tr>\n",
       "  </tbody>\n",
       "</table>\n",
       "<div>Dask Name: getitem, 28 expressions</div>"
      ],
      "text/plain": [
       "Dask DataFrame Structure:\n",
       "               pickup_latitude pickup_longitude dropoff_latitude dropoff_longitude\n",
       "npartitions=82                                                                    \n",
       "                       float64          float64          float64           float64\n",
       "                           ...              ...              ...               ...\n",
       "...                        ...              ...              ...               ...\n",
       "                           ...              ...              ...               ...\n",
       "                           ...              ...              ...               ...\n",
       "Dask Name: getitem, 28 expressions\n",
       "Expr=(Loc(frame=(Loc(frame=(Concat(frames=[ArrowStringConversion(frame=FromMapProjectable(e0facb1)), ArrowStringConversion(frame=FromMapProjectable(2814a38)), ArrowStringConversion(frame=FromMapProjectable(e9b56ae))], ))[['trip_distance', 'pickup_longitude', 'pickup_latitude', 'dropoff_longitude', 'dropoff_latitude', 'fare_amount']], iindexer=Between(frame=(Concat(frames=[ArrowStringConversion(frame=FromMapProjectable(e0facb1)), ArrowStringConversion(frame=FromMapProjectable(2814a38)), ArrowStringConversion(frame=FromMapProjectable(e9b56ae))], ))['pickup_latitude'], left=40.6, right=40.85) & Between(frame=(Concat(frames=[ArrowStringConversion(frame=FromMapProjectable(e0facb1)), ArrowStringConversion(frame=FromMapProjectable(2814a38)), ArrowStringConversion(frame=FromMapProjectable(e9b56ae))], ))['pickup_longitude'], left=-74.05, right=-73.7) & Between(frame=(Concat(frames=[ArrowStringConversion(frame=FromMapProjectable(e0facb1)), ArrowStringConversion(frame=FromMapProjectable(2814a38)), ArrowStringConversion(frame=FromMapProjectable(e9b56ae))], ))['dropoff_latitude'], left=40.6, right=40.85) & Between(frame=(Concat(frames=[ArrowStringConversion(frame=FromMapProjectable(e0facb1)), ArrowStringConversion(frame=FromMapProjectable(2814a38)), ArrowStringConversion(frame=FromMapProjectable(e9b56ae))], ))['dropoff_longitude'], left=-74.05, right=-73.7)))[['trip_distance', 'pickup_longitude', 'pickup_latitude', 'dropoff_longitude', 'dropoff_latitude', 'fare_amount']], iindexer=Between(frame=(Loc(frame=(Concat(frames=[ArrowStringConversion(frame=FromMapProjectable(e0facb1)), ArrowStringConversion(frame=FromMapProjectable(2814a38)), ArrowStringConversion(frame=FromMapProjectable(e9b56ae))], ))[['trip_distance', 'pickup_longitude', 'pickup_latitude', 'dropoff_longitude', 'dropoff_latitude', 'fare_amount']], iindexer=Between(frame=(Concat(frames=[ArrowStringConversion(frame=FromMapProjectable(e0facb1)), ArrowStringConversion(frame=FromMapProjectable(2814a38)), ArrowStringConversion(frame=FromMapProjectable(e9b56ae))], ))['pickup_latitude'], left=40.6, right=40.85) & Between(frame=(Concat(frames=[ArrowStringConversion(frame=FromMapProjectable(e0facb1)), ArrowStringConversion(frame=FromMapProjectable(2814a38)), ArrowStringConversion(frame=FromMapProjectable(e9b56ae))], ))['pickup_longitude'], left=-74.05, right=-73.7) & Between(frame=(Concat(frames=[ArrowStringConversion(frame=FromMapProjectable(e0facb1)), ArrowStringConversion(frame=FromMapProjectable(2814a38)), ArrowStringConversion(frame=FromMapProjectable(e9b56ae))], ))['dropoff_latitude'], left=40.6, right=40.85) & Between(frame=(Concat(frames=[ArrowStringConversion(frame=FromMapProjectable(e0facb1)), ArrowStringConversion(frame=FromMapProjectable(2814a38)), ArrowStringConversion(frame=FromMapProjectable(e9b56ae))], ))['dropoff_longitude'], left=-74.05, right=-73.7)))['fare_amount'], left=0.5, right=81.0) & Between(frame=(Loc(frame=(Concat(frames=[ArrowStringConversion(frame=FromMapProjectable(e0facb1)), ArrowStringConversion(frame=FromMapProjectable(2814a38)), ArrowStringConversion(frame=FromMapProjectable(e9b56ae))], ))[['trip_distance', 'pickup_longitude', 'pickup_latitude', 'dropoff_longitude', 'dropoff_latitude', 'fare_amount']], iindexer=Between(frame=(Concat(frames=[ArrowStringConversion(frame=FromMapProjectable(e0facb1)), ArrowStringConversion(frame=FromMapProjectable(2814a38)), ArrowStringConversion(frame=FromMapProjectable(e9b56ae))], ))['pickup_latitude'], left=40.6, right=40.85) & Between(frame=(Concat(frames=[ArrowStringConversion(frame=FromMapProjectable(e0facb1)), ArrowStringConversion(frame=FromMapProjectable(2814a38)), ArrowStringConversion(frame=FromMapProjectable(e9b56ae))], ))['pickup_longitude'], left=-74.05, right=-73.7) & Between(frame=(Concat(frames=[ArrowStringConversion(frame=FromMapProjectable(e0facb1)), ArrowStringConversion(frame=FromMapProjectable(2814a38)), ArrowStringConversion(frame=FromMapProjectable(e9b56ae))], ))['dropoff_latitude'], left=40.6, right=40.85) & Between(frame=(Concat(frames=[ArrowStringConversion(frame=FromMapProjectable(e0facb1)), ArrowStringConversion(frame=FromMapProjectable(2814a38)), ArrowStringConversion(frame=FromMapProjectable(e9b56ae))], ))['dropoff_longitude'], left=-74.05, right=-73.7)))['trip_distance'], left=0.25, right=24.43)))[['pickup_latitude', 'pickup_longitude', 'dropoff_latitude', 'dropoff_longitude']]"
      ]
     },
     "execution_count": 16,
     "metadata": {},
     "output_type": "execute_result"
    }
   ],
   "source": [
    "location_subset = df[[\"pickup_latitude\", \"pickup_longitude\", \"dropoff_latitude\", \"dropoff_longitude\"]]\n",
    "location_subset"
   ]
  },
  {
   "cell_type": "code",
   "execution_count": 17,
   "id": "d7451e7e-6094-45c7-baf1-ab4d6cb5a28d",
   "metadata": {},
   "outputs": [
    {
     "data": {
      "image/png": "[encoded data removed]",
      "text/plain": [
       "<Figure size 1200x500 with 4 Axes>"
      ]
     },
     "metadata": {},
     "output_type": "display_data"
    }
   ],
   "source": [
    "fig, (ax1, ax2) = plt.subplots(nrows=2, ncols=2, figsize=(12,5))\n",
    "for i in range(4):\n",
    "    if i <= 1:  # pickup\n",
    "        sns.boxplot(y=location_subset.iloc[:, i].compute(), ax=ax1[i], whis=3)\n",
    "    else:  # dropoff\n",
    "        sns.boxplot(y=location_subset.iloc[:, i].compute(), ax=ax2[i - 2], whis=3)"
   ]
  },
  {
   "cell_type": "markdown",
   "id": "b2410767-f0ec-4a06-9f91-296bcc816bdb",
   "metadata": {},
   "source": [
    "The box plots look a lot more acceptable right now. They do have some extreme values, but they aren't really outliers."
   ]
  },
  {
   "cell_type": "markdown",
   "id": "9562fa2e-0382-4a89-af0c-0421ba06a6ac",
   "metadata": {},
   "source": [
    "## `trip_distance`"
   ]
  },
  {
   "cell_type": "code",
   "execution_count": 18,
   "id": "1a5684d9-87f9-4610-9b88-84dc8339401a",
   "metadata": {},
   "outputs": [
    {
     "data": {
      "image/png": "[encoded data removed]",
      "text/plain": [
       "<Figure size 640x480 with 1 Axes>"
      ]
     },
     "metadata": {},
     "output_type": "display_data"
    }
   ],
   "source": [
    "sns.boxplot(df[\"trip_distance\"].compute());"
   ]
  },
  {
   "cell_type": "markdown",
   "id": "945b0b90-d0e1-4304-b5b5-2d0df5d96d24",
   "metadata": {},
   "source": [
    "Again, the boxplot looks a lot more acceptable."
   ]
  },
  {
   "cell_type": "markdown",
   "id": "4bdfc3bb-fd41-43bd-99bd-e2a1b9d7bf7c",
   "metadata": {},
   "source": [
    "## `fare_amount`"
   ]
  },
  {
   "cell_type": "code",
   "execution_count": 19,
   "id": "0e12c1d4-3e72-49e5-8184-a7262c45ed9c",
   "metadata": {},
   "outputs": [
    {
     "data": {
      "image/png": "[encoded data removed]",
      "text/plain": [
       "<Figure size 640x480 with 1 Axes>"
      ]
     },
     "metadata": {},
     "output_type": "display_data"
    }
   ],
   "source": [
    "sns.boxplot(df[\"fare_amount\"].compute());"
   ]
  },
  {
   "cell_type": "markdown",
   "id": "7daafac5-b945-40f6-bf57-962e83bbefd6",
   "metadata": {},
   "source": [
    "Again, the boxplot looks a lot more acceptable."
   ]
  },
  {
   "cell_type": "markdown",
   "id": "87ec6b4e-1cc4-44b2-97e9-a6d27ad1a7a6",
   "metadata": {},
   "source": [
    "# Saving the data with pickup coordinates"
   ]
  },
  {
   "cell_type": "code",
   "execution_count": 20,
   "id": "b22a8f67-05ba-4b3b-836a-b1d12e9f248d",
   "metadata": {},
   "outputs": [],
   "source": [
    "INTERIM_DATA_PATH = \"../data/interim/pickup_coord_data.csv\"\n",
    "\n",
    "pickup_coord_data = df[[\"pickup_latitude\", \"pickup_longitude\"]]"
   ]
  },
  {
   "cell_type": "code",
   "execution_count": 21,
   "id": "5d80624a-1b55-4d01-9fbe-38732b5d0216",
   "metadata": {},
   "outputs": [
    {
     "data": {
      "image/svg+xml": [
       "<?xml version=\"1.0\" encoding=\"UTF-8\" standalone=\"no\"?>\n",
       "<!DOCTYPE svg PUBLIC \"-//W3C//DTD SVG 1.1//EN\"\n",
       " \"http://www.w3.org/Graphics/SVG/1.1/DTD/svg11.dtd\">\n",
       "<!-- Generated by graphviz version 12.2.1 (20241206.2353)\n",
       " -->\n",
       "<!-- Pages: 1 -->\n",
       "<svg width=\"2009pt\" height=\"980pt\"\n",
       " viewBox=\"0.00 0.00 2008.50 980.00\" xmlns=\"http://www.w3.org/2000/svg\" xmlns:xlink=\"http://www.w3.org/1999/xlink\">\n",
       "<g id=\"graph0\" class=\"graph\" transform=\"scale(1 1) rotate(0) translate(4 976)\">\n",
       "<polygon fill=\"white\" stroke=\"none\" points=\"-4,4 -4,-976 2004.5,-976 2004.5,4 -4,4\"/>\n",
       "<!-- 5614174796777834389 -->\n",
       "<g id=\"node1\" class=\"node\">\n",
       "<title>5614174796777834389</title>\n",
       "<polygon fill=\"none\" stroke=\"black\" points=\"973.62,-972 491.88,-972 491.88,-936 973.62,-936 973.62,-972\"/>\n",
       "<text text-anchor=\"middle\" x=\"732.75\" y=\"-946.62\" font-family=\"Helvetica,sans-Serif\" font-size=\"20.00\">Projection(Loc, [&#39;pickup_latitude&#39;, &#39;pickup_longitude&#39;])</text>\n",
       "</g>\n",
       "<!-- &#45;6604492452388198149 -->\n",
       "<g id=\"node2\" class=\"node\">\n",
       "<title>&#45;6604492452388198149</title>\n",
       "<polygon fill=\"none\" stroke=\"black\" points=\"831.12,-900 634.38,-900 634.38,-864 831.12,-864 831.12,-900\"/>\n",
       "<text text-anchor=\"middle\" x=\"732.75\" y=\"-874.62\" font-family=\"Helvetica,sans-Serif\" font-size=\"20.00\">Loc(Projection, And)</text>\n",
       "</g>\n",
       "<!-- &#45;6604492452388198149&#45;&gt;5614174796777834389 -->\n",
       "<g id=\"edge1\" class=\"edge\">\n",
       "<title>&#45;6604492452388198149&#45;&gt;5614174796777834389</title>\n",
       "<path fill=\"none\" stroke=\"black\" d=\"M732.75,-900.3C732.75,-907.59 732.75,-916.27 732.75,-924.46\"/>\n",
       "<polygon fill=\"black\" stroke=\"black\" points=\"729.25,-924.38 732.75,-934.38 736.25,-924.38 729.25,-924.38\"/>\n",
       "</g>\n",
       "<!-- &#45;7466660852069126073 -->\n",
       "<g id=\"node3\" class=\"node\">\n",
       "<title>&#45;7466660852069126073</title>\n",
       "<polygon fill=\"none\" stroke=\"black\" points=\"513.75,-828 281.75,-828 281.75,-792 513.75,-792 513.75,-828\"/>\n",
       "<text text-anchor=\"middle\" x=\"397.75\" y=\"-802.62\" font-family=\"Helvetica,sans-Serif\" font-size=\"20.00\">And(Between, Between)</text>\n",
       "</g>\n",
       "<!-- &#45;7466660852069126073&#45;&gt;&#45;6604492452388198149 -->\n",
       "<g id=\"edge3\" class=\"edge\">\n",
       "<title>&#45;7466660852069126073&#45;&gt;&#45;6604492452388198149</title>\n",
       "<path fill=\"none\" stroke=\"black\" d=\"M481.42,-828.48C529.08,-838.44 588.93,-850.95 638.27,-861.26\"/>\n",
       "<polygon fill=\"black\" stroke=\"black\" points=\"637.29,-864.63 647.79,-863.25 638.72,-857.78 637.29,-864.63\"/>\n",
       "</g>\n",
       "<!-- 7443589534153740615 -->\n",
       "<g id=\"node4\" class=\"node\">\n",
       "<title>7443589534153740615</title>\n",
       "<polygon fill=\"none\" stroke=\"black\" points=\"496.12,-756 299.38,-756 299.38,-720 496.12,-720 496.12,-756\"/>\n",
       "<text text-anchor=\"middle\" x=\"397.75\" y=\"-730.62\" font-family=\"Helvetica,sans-Serif\" font-size=\"20.00\">Between(Projection)</text>\n",
       "</g>\n",
       "<!-- 7443589534153740615&#45;&gt;&#45;7466660852069126073 -->\n",
       "<g id=\"edge5\" class=\"edge\">\n",
       "<title>7443589534153740615&#45;&gt;&#45;7466660852069126073</title>\n",
       "<path fill=\"none\" stroke=\"black\" d=\"M397.75,-756.3C397.75,-763.59 397.75,-772.27 397.75,-780.46\"/>\n",
       "<polygon fill=\"black\" stroke=\"black\" points=\"394.25,-780.38 397.75,-790.38 401.25,-780.38 394.25,-780.38\"/>\n",
       "</g>\n",
       "<!-- &#45;5197533582988027067 -->\n",
       "<g id=\"node5\" class=\"node\">\n",
       "<title>&#45;5197533582988027067</title>\n",
       "<polygon fill=\"none\" stroke=\"black\" points=\"535.12,-684 260.38,-684 260.38,-648 535.12,-648 535.12,-684\"/>\n",
       "<text text-anchor=\"middle\" x=\"397.75\" y=\"-658.62\" font-family=\"Helvetica,sans-Serif\" font-size=\"20.00\">Projection(Loc, trip_distance)</text>\n",
       "</g>\n",
       "<!-- &#45;5197533582988027067&#45;&gt;7443589534153740615 -->\n",
       "<g id=\"edge6\" class=\"edge\">\n",
       "<title>&#45;5197533582988027067&#45;&gt;7443589534153740615</title>\n",
       "<path fill=\"none\" stroke=\"black\" d=\"M397.75,-684.3C397.75,-691.59 397.75,-700.27 397.75,-708.46\"/>\n",
       "<polygon fill=\"black\" stroke=\"black\" points=\"394.25,-708.38 397.75,-718.38 401.25,-708.38 394.25,-708.38\"/>\n",
       "</g>\n",
       "<!-- &#45;5964036099572047199 -->\n",
       "<g id=\"node6\" class=\"node\">\n",
       "<title>&#45;5964036099572047199</title>\n",
       "<polygon fill=\"none\" stroke=\"black\" points=\"788.12,-612 591.38,-612 591.38,-576 788.12,-576 788.12,-612\"/>\n",
       "<text text-anchor=\"middle\" x=\"689.75\" y=\"-586.62\" font-family=\"Helvetica,sans-Serif\" font-size=\"20.00\">Loc(Projection, And)</text>\n",
       "</g>\n",
       "<!-- &#45;5964036099572047199&#45;&gt;&#45;5197533582988027067 -->\n",
       "<g id=\"edge7\" class=\"edge\">\n",
       "<title>&#45;5964036099572047199&#45;&gt;&#45;5197533582988027067</title>\n",
       "<path fill=\"none\" stroke=\"black\" d=\"M616.82,-612.48C575.72,-622.34 524.21,-634.69 481.46,-644.93\"/>\n",
       "<polygon fill=\"black\" stroke=\"black\" points=\"480.89,-641.47 471.98,-647.2 482.52,-648.28 480.89,-641.47\"/>\n",
       "</g>\n",
       "<!-- &#45;5994163234144982153 -->\n",
       "<g id=\"node27\" class=\"node\">\n",
       "<title>&#45;5994163234144982153</title>\n",
       "<polygon fill=\"none\" stroke=\"black\" points=\"826.75,-684 552.75,-684 552.75,-648 826.75,-648 826.75,-684\"/>\n",
       "<text text-anchor=\"middle\" x=\"689.75\" y=\"-658.62\" font-family=\"Helvetica,sans-Serif\" font-size=\"20.00\">Projection(Loc, fare_amount)</text>\n",
       "</g>\n",
       "<!-- &#45;5964036099572047199&#45;&gt;&#45;5994163234144982153 -->\n",
       "<g id=\"edge32\" class=\"edge\">\n",
       "<title>&#45;5964036099572047199&#45;&gt;&#45;5994163234144982153</title>\n",
       "<path fill=\"none\" stroke=\"black\" d=\"M689.75,-612.3C689.75,-619.59 689.75,-628.27 689.75,-636.46\"/>\n",
       "<polygon fill=\"black\" stroke=\"black\" points=\"686.25,-636.38 689.75,-646.38 693.25,-636.38 686.25,-636.38\"/>\n",
       "</g>\n",
       "<!-- 4485469408057087617 -->\n",
       "<g id=\"node28\" class=\"node\">\n",
       "<title>4485469408057087617</title>\n",
       "<polygon fill=\"none\" stroke=\"black\" points=\"1604.12,-828 531.38,-828 531.38,-792 1604.12,-792 1604.12,-828\"/>\n",
       "<text text-anchor=\"middle\" x=\"1067.75\" y=\"-802.62\" font-family=\"Helvetica,sans-Serif\" font-size=\"20.00\">Projection(Loc, [&#39;trip_distance&#39;, &#39;pickup_longitude&#39;, &#39;pickup_latitude&#39;, &#39;dropoff_longitude&#39;, &#39;dropoff_latitude&#39;, &#39;fare_amount&#39;])</text>\n",
       "</g>\n",
       "<!-- &#45;5964036099572047199&#45;&gt;4485469408057087617 -->\n",
       "<g id=\"edge33\" class=\"edge\">\n",
       "<title>&#45;5964036099572047199&#45;&gt;4485469408057087617</title>\n",
       "<path fill=\"none\" stroke=\"black\" d=\"M748.41,-612.44C775.67,-621.5 808.09,-633.69 835.75,-648 913.44,-688.19 995.52,-750.56 1038.14,-784.67\"/>\n",
       "<polygon fill=\"black\" stroke=\"black\" points=\"1035.71,-787.21 1045.69,-790.76 1040.1,-781.76 1035.71,-787.21\"/>\n",
       "</g>\n",
       "<!-- 43255175247695974 -->\n",
       "<g id=\"node7\" class=\"node\">\n",
       "<title>43255175247695974</title>\n",
       "<polygon fill=\"none\" stroke=\"black\" points=\"723.75,-540 533.75,-540 533.75,-504 723.75,-504 723.75,-540\"/>\n",
       "<text text-anchor=\"middle\" x=\"628.75\" y=\"-514.62\" font-family=\"Helvetica,sans-Serif\" font-size=\"20.00\">And(And, Between)</text>\n",
       "</g>\n",
       "<!-- 43255175247695974&#45;&gt;&#45;5964036099572047199 -->\n",
       "<g id=\"edge8\" class=\"edge\">\n",
       "<title>43255175247695974&#45;&gt;&#45;5964036099572047199</title>\n",
       "<path fill=\"none\" stroke=\"black\" d=\"M643.83,-540.3C650.92,-548.44 659.52,-558.31 667.35,-567.3\"/>\n",
       "<polygon fill=\"black\" stroke=\"black\" points=\"664.64,-569.51 673.85,-574.75 669.92,-564.92 664.64,-569.51\"/>\n",
       "</g>\n",
       "<!-- 2240588613387658936 -->\n",
       "<g id=\"node8\" class=\"node\">\n",
       "<title>2240588613387658936</title>\n",
       "<polygon fill=\"none\" stroke=\"black\" points=\"479.12,-468 282.38,-468 282.38,-432 479.12,-432 479.12,-468\"/>\n",
       "<text text-anchor=\"middle\" x=\"380.75\" y=\"-442.62\" font-family=\"Helvetica,sans-Serif\" font-size=\"20.00\">Between(Projection)</text>\n",
       "</g>\n",
       "<!-- 2240588613387658936&#45;&gt;43255175247695974 -->\n",
       "<g id=\"edge10\" class=\"edge\">\n",
       "<title>2240588613387658936&#45;&gt;43255175247695974</title>\n",
       "<path fill=\"none\" stroke=\"black\" d=\"M442.69,-468.48C477.15,-478.21 520.21,-490.36 556.23,-500.53\"/>\n",
       "<polygon fill=\"black\" stroke=\"black\" points=\"555.14,-503.86 565.71,-503.21 557.04,-497.12 555.14,-503.86\"/>\n",
       "</g>\n",
       "<!-- &#45;5550173271364897363 -->\n",
       "<g id=\"node9\" class=\"node\">\n",
       "<title>&#45;5550173271364897363</title>\n",
       "<polygon fill=\"none\" stroke=\"black\" points=\"347.5,-252 0,-252 0,-216 347.5,-216 347.5,-252\"/>\n",
       "<text text-anchor=\"middle\" x=\"173.75\" y=\"-226.62\" font-family=\"Helvetica,sans-Serif\" font-size=\"20.00\">Projection(Concat, dropoff_longitude)</text>\n",
       "</g>\n",
       "<!-- &#45;5550173271364897363&#45;&gt;2240588613387658936 -->\n",
       "<g id=\"edge12\" class=\"edge\">\n",
       "<title>&#45;5550173271364897363&#45;&gt;2240588613387658936</title>\n",
       "<path fill=\"none\" stroke=\"black\" d=\"M190.34,-252.15C226.68,-289.72 313.45,-379.42 356.16,-423.57\"/>\n",
       "<polygon fill=\"black\" stroke=\"black\" points=\"353.56,-425.93 363.03,-430.68 358.59,-421.06 353.56,-425.93\"/>\n",
       "</g>\n",
       "<!-- &#45;5452043089934432463 -->\n",
       "<g id=\"node10\" class=\"node\">\n",
       "<title>&#45;5452043089934432463</title>\n",
       "<polygon fill=\"none\" stroke=\"black\" points=\"1251.12,-180 520.38,-180 520.38,-144 1251.12,-144 1251.12,-180\"/>\n",
       "<text text-anchor=\"middle\" x=\"885.75\" y=\"-154.62\" font-family=\"Helvetica,sans-Serif\" font-size=\"20.00\">Concat(ArrowStringConversion, ArrowStringConversion, ArrowStringConversion)</text>\n",
       "</g>\n",
       "<!-- &#45;5452043089934432463&#45;&gt;&#45;5550173271364897363 -->\n",
       "<g id=\"edge13\" class=\"edge\">\n",
       "<title>&#45;5452043089934432463&#45;&gt;&#45;5550173271364897363</title>\n",
       "<path fill=\"none\" stroke=\"black\" d=\"M707.92,-180.48C601.6,-190.94 466.72,-204.2 359.1,-214.78\"/>\n",
       "<polygon fill=\"black\" stroke=\"black\" points=\"358.89,-211.28 349.28,-215.74 359.58,-218.25 358.89,-211.28\"/>\n",
       "</g>\n",
       "<!-- &#45;3821991325516922131 -->\n",
       "<g id=\"node19\" class=\"node\">\n",
       "<title>&#45;3821991325516922131</title>\n",
       "<polygon fill=\"none\" stroke=\"black\" points=\"695.88,-252 365.62,-252 365.62,-216 695.88,-216 695.88,-252\"/>\n",
       "<text text-anchor=\"middle\" x=\"530.75\" y=\"-226.62\" font-family=\"Helvetica,sans-Serif\" font-size=\"20.00\">Projection(Concat, dropoff_latitude)</text>\n",
       "</g>\n",
       "<!-- &#45;5452043089934432463&#45;&gt;&#45;3821991325516922131 -->\n",
       "<g id=\"edge23\" class=\"edge\">\n",
       "<title>&#45;5452043089934432463&#45;&gt;&#45;3821991325516922131</title>\n",
       "<path fill=\"none\" stroke=\"black\" d=\"M797.08,-180.48C746.37,-190.48 682.62,-203.05 630.21,-213.39\"/>\n",
       "<polygon fill=\"black\" stroke=\"black\" points=\"629.83,-209.9 620.69,-215.26 631.18,-216.76 629.83,-209.9\"/>\n",
       "</g>\n",
       "<!-- &#45;5183033255247974532 -->\n",
       "<g id=\"node22\" class=\"node\">\n",
       "<title>&#45;5183033255247974532</title>\n",
       "<polygon fill=\"none\" stroke=\"black\" points=\"1057.25,-252 714.25,-252 714.25,-216 1057.25,-216 1057.25,-252\"/>\n",
       "<text text-anchor=\"middle\" x=\"885.75\" y=\"-226.62\" font-family=\"Helvetica,sans-Serif\" font-size=\"20.00\">Projection(Concat, pickup_longitude)</text>\n",
       "</g>\n",
       "<!-- &#45;5452043089934432463&#45;&gt;&#45;5183033255247974532 -->\n",
       "<g id=\"edge27\" class=\"edge\">\n",
       "<title>&#45;5452043089934432463&#45;&gt;&#45;5183033255247974532</title>\n",
       "<path fill=\"none\" stroke=\"black\" d=\"M885.75,-180.3C885.75,-187.59 885.75,-196.27 885.75,-204.46\"/>\n",
       "<polygon fill=\"black\" stroke=\"black\" points=\"882.25,-204.38 885.75,-214.38 889.25,-204.38 882.25,-204.38\"/>\n",
       "</g>\n",
       "<!-- 3998161381660635382 -->\n",
       "<g id=\"node24\" class=\"node\">\n",
       "<title>3998161381660635382</title>\n",
       "<polygon fill=\"none\" stroke=\"black\" points=\"1400.62,-252 1074.88,-252 1074.88,-216 1400.62,-216 1400.62,-252\"/>\n",
       "<text text-anchor=\"middle\" x=\"1237.75\" y=\"-226.62\" font-family=\"Helvetica,sans-Serif\" font-size=\"20.00\">Projection(Concat, pickup_latitude)</text>\n",
       "</g>\n",
       "<!-- &#45;5452043089934432463&#45;&gt;3998161381660635382 -->\n",
       "<g id=\"edge29\" class=\"edge\">\n",
       "<title>&#45;5452043089934432463&#45;&gt;3998161381660635382</title>\n",
       "<path fill=\"none\" stroke=\"black\" d=\"M973.67,-180.48C1023.85,-190.46 1086.89,-203 1138.8,-213.32\"/>\n",
       "<polygon fill=\"black\" stroke=\"black\" points=\"1138.06,-216.74 1148.56,-215.26 1139.43,-209.88 1138.06,-216.74\"/>\n",
       "</g>\n",
       "<!-- &#45;8533847500846834745 -->\n",
       "<g id=\"node25\" class=\"node\">\n",
       "<title>&#45;8533847500846834745</title>\n",
       "<polygon fill=\"none\" stroke=\"black\" points=\"2000.5,-396 897,-396 897,-360 2000.5,-360 2000.5,-396\"/>\n",
       "<text text-anchor=\"middle\" x=\"1448.75\" y=\"-370.62\" font-family=\"Helvetica,sans-Serif\" font-size=\"20.00\">Projection(Concat, [&#39;trip_distance&#39;, &#39;pickup_longitude&#39;, &#39;pickup_latitude&#39;, &#39;dropoff_longitude&#39;, &#39;dropoff_latitude&#39;, &#39;fare_amount&#39;])</text>\n",
       "</g>\n",
       "<!-- &#45;5452043089934432463&#45;&gt;&#45;8533847500846834745 -->\n",
       "<g id=\"edge30\" class=\"edge\">\n",
       "<title>&#45;5452043089934432463&#45;&gt;&#45;8533847500846834745</title>\n",
       "<path fill=\"none\" stroke=\"black\" d=\"M1203.43,-180.5C1303.07,-188.84 1391.94,-200.47 1409.75,-216 1447.54,-248.94 1451.95,-311.66 1450.91,-348.34\"/>\n",
       "<polygon fill=\"black\" stroke=\"black\" points=\"1447.42,-348.03 1450.47,-358.18 1454.42,-348.35 1447.42,-348.03\"/>\n",
       "</g>\n",
       "<!-- 7559417158258485003 -->\n",
       "<g id=\"node11\" class=\"node\">\n",
       "<title>7559417158258485003</title>\n",
       "<polygon fill=\"none\" stroke=\"black\" points=\"656.62,-108 234.87,-108 234.87,-72 656.62,-72 656.62,-108\"/>\n",
       "<text text-anchor=\"middle\" x=\"445.75\" y=\"-82.62\" font-family=\"Helvetica,sans-Serif\" font-size=\"20.00\">ArrowStringConversion(FromMapProjectable)</text>\n",
       "</g>\n",
       "<!-- 7559417158258485003&#45;&gt;&#45;5452043089934432463 -->\n",
       "<g id=\"edge15\" class=\"edge\">\n",
       "<title>7559417158258485003&#45;&gt;&#45;5452043089934432463</title>\n",
       "<path fill=\"none\" stroke=\"black\" d=\"M555.65,-108.48C619.29,-118.61 699.5,-131.37 764.91,-141.78\"/>\n",
       "<polygon fill=\"black\" stroke=\"black\" points=\"764.19,-145.21 774.62,-143.32 765.29,-138.29 764.19,-145.21\"/>\n",
       "</g>\n",
       "<!-- &#45;1886747748128994530 -->\n",
       "<g id=\"node12\" class=\"node\">\n",
       "<title>&#45;1886747748128994530</title>\n",
       "<polygon fill=\"none\" stroke=\"black\" points=\"546.75,-36 344.75,-36 344.75,0 546.75,0 546.75,-36\"/>\n",
       "<text text-anchor=\"middle\" x=\"445.75\" y=\"-10.62\" font-family=\"Helvetica,sans-Serif\" font-size=\"20.00\">FromMapProjectable</text>\n",
       "</g>\n",
       "<!-- &#45;1886747748128994530&#45;&gt;7559417158258485003 -->\n",
       "<g id=\"edge17\" class=\"edge\">\n",
       "<title>&#45;1886747748128994530&#45;&gt;7559417158258485003</title>\n",
       "<path fill=\"none\" stroke=\"black\" d=\"M445.75,-36.3C445.75,-43.59 445.75,-52.27 445.75,-60.46\"/>\n",
       "<polygon fill=\"black\" stroke=\"black\" points=\"442.25,-60.38 445.75,-70.38 449.25,-60.38 442.25,-60.38\"/>\n",
       "</g>\n",
       "<!-- 6848997254975279181 -->\n",
       "<g id=\"node13\" class=\"node\">\n",
       "<title>6848997254975279181</title>\n",
       "<polygon fill=\"none\" stroke=\"black\" points=\"1096.62,-108 674.88,-108 674.88,-72 1096.62,-72 1096.62,-108\"/>\n",
       "<text text-anchor=\"middle\" x=\"885.75\" y=\"-82.62\" font-family=\"Helvetica,sans-Serif\" font-size=\"20.00\">ArrowStringConversion(FromMapProjectable)</text>\n",
       "</g>\n",
       "<!-- 6848997254975279181&#45;&gt;&#45;5452043089934432463 -->\n",
       "<g id=\"edge16\" class=\"edge\">\n",
       "<title>6848997254975279181&#45;&gt;&#45;5452043089934432463</title>\n",
       "<path fill=\"none\" stroke=\"black\" d=\"M885.75,-108.3C885.75,-115.59 885.75,-124.27 885.75,-132.46\"/>\n",
       "<polygon fill=\"black\" stroke=\"black\" points=\"882.25,-132.38 885.75,-142.38 889.25,-132.38 882.25,-132.38\"/>\n",
       "</g>\n",
       "<!-- 2830431902079495202 -->\n",
       "<g id=\"node14\" class=\"node\">\n",
       "<title>2830431902079495202</title>\n",
       "<polygon fill=\"none\" stroke=\"black\" points=\"986.75,-36 784.75,-36 784.75,0 986.75,0 986.75,-36\"/>\n",
       "<text text-anchor=\"middle\" x=\"885.75\" y=\"-10.62\" font-family=\"Helvetica,sans-Serif\" font-size=\"20.00\">FromMapProjectable</text>\n",
       "</g>\n",
       "<!-- 2830431902079495202&#45;&gt;6848997254975279181 -->\n",
       "<g id=\"edge18\" class=\"edge\">\n",
       "<title>2830431902079495202&#45;&gt;6848997254975279181</title>\n",
       "<path fill=\"none\" stroke=\"black\" d=\"M885.75,-36.3C885.75,-43.59 885.75,-52.27 885.75,-60.46\"/>\n",
       "<polygon fill=\"black\" stroke=\"black\" points=\"882.25,-60.38 885.75,-70.38 889.25,-60.38 882.25,-60.38\"/>\n",
       "</g>\n",
       "<!-- &#45;3857115136552286038 -->\n",
       "<g id=\"node15\" class=\"node\">\n",
       "<title>&#45;3857115136552286038</title>\n",
       "<polygon fill=\"none\" stroke=\"black\" points=\"1536.62,-108 1114.88,-108 1114.88,-72 1536.62,-72 1536.62,-108\"/>\n",
       "<text text-anchor=\"middle\" x=\"1325.75\" y=\"-82.62\" font-family=\"Helvetica,sans-Serif\" font-size=\"20.00\">ArrowStringConversion(FromMapProjectable)</text>\n",
       "</g>\n",
       "<!-- &#45;3857115136552286038&#45;&gt;&#45;5452043089934432463 -->\n",
       "<g id=\"edge14\" class=\"edge\">\n",
       "<title>&#45;3857115136552286038&#45;&gt;&#45;5452043089934432463</title>\n",
       "<path fill=\"none\" stroke=\"black\" d=\"M1215.85,-108.48C1152.21,-118.61 1072,-131.37 1006.59,-141.78\"/>\n",
       "<polygon fill=\"black\" stroke=\"black\" points=\"1006.21,-138.29 996.88,-143.32 1007.31,-145.21 1006.21,-138.29\"/>\n",
       "</g>\n",
       "<!-- &#45;8427035654869589146 -->\n",
       "<g id=\"node16\" class=\"node\">\n",
       "<title>&#45;8427035654869589146</title>\n",
       "<polygon fill=\"none\" stroke=\"black\" points=\"1426.75,-36 1224.75,-36 1224.75,0 1426.75,0 1426.75,-36\"/>\n",
       "<text text-anchor=\"middle\" x=\"1325.75\" y=\"-10.62\" font-family=\"Helvetica,sans-Serif\" font-size=\"20.00\">FromMapProjectable</text>\n",
       "</g>\n",
       "<!-- &#45;8427035654869589146&#45;&gt;&#45;3857115136552286038 -->\n",
       "<g id=\"edge19\" class=\"edge\">\n",
       "<title>&#45;8427035654869589146&#45;&gt;&#45;3857115136552286038</title>\n",
       "<path fill=\"none\" stroke=\"black\" d=\"M1325.75,-36.3C1325.75,-43.59 1325.75,-52.27 1325.75,-60.46\"/>\n",
       "<polygon fill=\"black\" stroke=\"black\" points=\"1322.25,-60.38 1325.75,-70.38 1329.25,-60.38 1322.25,-60.38\"/>\n",
       "</g>\n",
       "<!-- 8407243255961277625 -->\n",
       "<g id=\"node17\" class=\"node\">\n",
       "<title>8407243255961277625</title>\n",
       "<polygon fill=\"none\" stroke=\"black\" points=\"723.75,-468 533.75,-468 533.75,-432 723.75,-432 723.75,-468\"/>\n",
       "<text text-anchor=\"middle\" x=\"628.75\" y=\"-442.62\" font-family=\"Helvetica,sans-Serif\" font-size=\"20.00\">And(And, Between)</text>\n",
       "</g>\n",
       "<!-- 8407243255961277625&#45;&gt;43255175247695974 -->\n",
       "<g id=\"edge11\" class=\"edge\">\n",
       "<title>8407243255961277625&#45;&gt;43255175247695974</title>\n",
       "<path fill=\"none\" stroke=\"black\" d=\"M628.75,-468.3C628.75,-475.59 628.75,-484.27 628.75,-492.46\"/>\n",
       "<polygon fill=\"black\" stroke=\"black\" points=\"625.25,-492.38 628.75,-502.38 632.25,-492.38 625.25,-492.38\"/>\n",
       "</g>\n",
       "<!-- &#45;8113134604885834528 -->\n",
       "<g id=\"node18\" class=\"node\">\n",
       "<title>&#45;8113134604885834528</title>\n",
       "<polygon fill=\"none\" stroke=\"black\" points=\"629.12,-396 432.38,-396 432.38,-360 629.12,-360 629.12,-396\"/>\n",
       "<text text-anchor=\"middle\" x=\"530.75\" y=\"-370.62\" font-family=\"Helvetica,sans-Serif\" font-size=\"20.00\">Between(Projection)</text>\n",
       "</g>\n",
       "<!-- &#45;8113134604885834528&#45;&gt;8407243255961277625 -->\n",
       "<g id=\"edge20\" class=\"edge\">\n",
       "<title>&#45;8113134604885834528&#45;&gt;8407243255961277625</title>\n",
       "<path fill=\"none\" stroke=\"black\" d=\"M555.23,-396.48C567.36,-405.15 582.2,-415.75 595.36,-425.15\"/>\n",
       "<polygon fill=\"black\" stroke=\"black\" points=\"593.18,-427.9 603.35,-430.86 597.25,-422.2 593.18,-427.9\"/>\n",
       "</g>\n",
       "<!-- &#45;3821991325516922131&#45;&gt;&#45;8113134604885834528 -->\n",
       "<g id=\"edge22\" class=\"edge\">\n",
       "<title>&#45;3821991325516922131&#45;&gt;&#45;8113134604885834528</title>\n",
       "<path fill=\"none\" stroke=\"black\" d=\"M530.75,-252.41C530.75,-276.39 530.75,-319.86 530.75,-348.58\"/>\n",
       "<polygon fill=\"black\" stroke=\"black\" points=\"527.25,-348.38 530.75,-358.38 534.25,-348.38 527.25,-348.38\"/>\n",
       "</g>\n",
       "<!-- 8723824637930248812 -->\n",
       "<g id=\"node20\" class=\"node\">\n",
       "<title>8723824637930248812</title>\n",
       "<polygon fill=\"none\" stroke=\"black\" points=\"878.75,-396 646.75,-396 646.75,-360 878.75,-360 878.75,-396\"/>\n",
       "<text text-anchor=\"middle\" x=\"762.75\" y=\"-370.62\" font-family=\"Helvetica,sans-Serif\" font-size=\"20.00\">And(Between, Between)</text>\n",
       "</g>\n",
       "<!-- 8723824637930248812&#45;&gt;8407243255961277625 -->\n",
       "<g id=\"edge21\" class=\"edge\">\n",
       "<title>8723824637930248812&#45;&gt;8407243255961277625</title>\n",
       "<path fill=\"none\" stroke=\"black\" d=\"M729.28,-396.48C711.88,-405.57 690.42,-416.78 671.8,-426.51\"/>\n",
       "<polygon fill=\"black\" stroke=\"black\" points=\"670.38,-423.31 663.13,-431.04 673.62,-429.51 670.38,-423.31\"/>\n",
       "</g>\n",
       "<!-- 152217836932006517 -->\n",
       "<g id=\"node21\" class=\"node\">\n",
       "<title>152217836932006517</title>\n",
       "<polygon fill=\"none\" stroke=\"black\" points=\"922.12,-324 725.38,-324 725.38,-288 922.12,-288 922.12,-324\"/>\n",
       "<text text-anchor=\"middle\" x=\"823.75\" y=\"-298.62\" font-family=\"Helvetica,sans-Serif\" font-size=\"20.00\">Between(Projection)</text>\n",
       "</g>\n",
       "<!-- 152217836932006517&#45;&gt;8723824637930248812 -->\n",
       "<g id=\"edge25\" class=\"edge\">\n",
       "<title>152217836932006517&#45;&gt;8723824637930248812</title>\n",
       "<path fill=\"none\" stroke=\"black\" d=\"M808.67,-324.3C801.58,-332.44 792.98,-342.31 785.15,-351.3\"/>\n",
       "<polygon fill=\"black\" stroke=\"black\" points=\"782.58,-348.92 778.65,-358.75 787.86,-353.51 782.58,-348.92\"/>\n",
       "</g>\n",
       "<!-- &#45;5183033255247974532&#45;&gt;152217836932006517 -->\n",
       "<g id=\"edge26\" class=\"edge\">\n",
       "<title>&#45;5183033255247974532&#45;&gt;152217836932006517</title>\n",
       "<path fill=\"none\" stroke=\"black\" d=\"M870.42,-252.3C863.22,-260.44 854.47,-270.31 846.51,-279.3\"/>\n",
       "<polygon fill=\"black\" stroke=\"black\" points=\"843.91,-276.96 839.9,-286.76 849.15,-281.6 843.91,-276.96\"/>\n",
       "</g>\n",
       "<!-- &#45;9104309462162844415 -->\n",
       "<g id=\"node23\" class=\"node\">\n",
       "<title>&#45;9104309462162844415</title>\n",
       "<polygon fill=\"none\" stroke=\"black\" points=\"1206.12,-324 1009.38,-324 1009.38,-288 1206.12,-288 1206.12,-324\"/>\n",
       "<text text-anchor=\"middle\" x=\"1107.75\" y=\"-298.62\" font-family=\"Helvetica,sans-Serif\" font-size=\"20.00\">Between(Projection)</text>\n",
       "</g>\n",
       "<!-- &#45;9104309462162844415&#45;&gt;8723824637930248812 -->\n",
       "<g id=\"edge24\" class=\"edge\">\n",
       "<title>&#45;9104309462162844415&#45;&gt;8723824637930248812</title>\n",
       "<path fill=\"none\" stroke=\"black\" d=\"M1021.58,-324.48C972.4,-334.46 910.61,-347 859.73,-357.32\"/>\n",
       "<polygon fill=\"black\" stroke=\"black\" points=\"859.3,-353.84 850.2,-359.26 860.7,-360.7 859.3,-353.84\"/>\n",
       "</g>\n",
       "<!-- 3998161381660635382&#45;&gt;&#45;9104309462162844415 -->\n",
       "<g id=\"edge28\" class=\"edge\">\n",
       "<title>3998161381660635382&#45;&gt;&#45;9104309462162844415</title>\n",
       "<path fill=\"none\" stroke=\"black\" d=\"M1205.28,-252.48C1188.48,-261.53 1167.77,-272.68 1149.77,-282.38\"/>\n",
       "<polygon fill=\"black\" stroke=\"black\" points=\"1148.28,-279.2 1141.14,-287.02 1151.6,-285.36 1148.28,-279.2\"/>\n",
       "</g>\n",
       "<!-- &#45;8533847500846834745&#45;&gt;&#45;5964036099572047199 -->\n",
       "<g id=\"edge9\" class=\"edge\">\n",
       "<title>&#45;8533847500846834745&#45;&gt;&#45;5964036099572047199</title>\n",
       "<path fill=\"none\" stroke=\"black\" d=\"M1386.96,-396.42C1247.98,-435.61 911.33,-530.53 762.54,-572.48\"/>\n",
       "<polygon fill=\"black\" stroke=\"black\" points=\"761.86,-569.03 753.18,-575.12 763.76,-575.77 761.86,-569.03\"/>\n",
       "</g>\n",
       "<!-- 8227714273278511352 -->\n",
       "<g id=\"node26\" class=\"node\">\n",
       "<title>8227714273278511352</title>\n",
       "<polygon fill=\"none\" stroke=\"black\" points=\"750.12,-756 553.38,-756 553.38,-720 750.12,-720 750.12,-756\"/>\n",
       "<text text-anchor=\"middle\" x=\"651.75\" y=\"-730.62\" font-family=\"Helvetica,sans-Serif\" font-size=\"20.00\">Between(Projection)</text>\n",
       "</g>\n",
       "<!-- 8227714273278511352&#45;&gt;&#45;7466660852069126073 -->\n",
       "<g id=\"edge4\" class=\"edge\">\n",
       "<title>8227714273278511352&#45;&gt;&#45;7466660852069126073</title>\n",
       "<path fill=\"none\" stroke=\"black\" d=\"M588.31,-756.48C552.87,-766.25 508.53,-778.47 471.54,-788.66\"/>\n",
       "<polygon fill=\"black\" stroke=\"black\" points=\"470.99,-785.19 462.28,-791.22 472.85,-791.93 470.99,-785.19\"/>\n",
       "</g>\n",
       "<!-- &#45;5994163234144982153&#45;&gt;8227714273278511352 -->\n",
       "<g id=\"edge31\" class=\"edge\">\n",
       "<title>&#45;5994163234144982153&#45;&gt;8227714273278511352</title>\n",
       "<path fill=\"none\" stroke=\"black\" d=\"M680.36,-684.3C676.17,-692.02 671.14,-701.29 666.47,-709.89\"/>\n",
       "<polygon fill=\"black\" stroke=\"black\" points=\"663.45,-708.11 661.76,-718.57 669.6,-711.45 663.45,-708.11\"/>\n",
       "</g>\n",
       "<!-- 4485469408057087617&#45;&gt;&#45;6604492452388198149 -->\n",
       "<g id=\"edge2\" class=\"edge\">\n",
       "<title>4485469408057087617&#45;&gt;&#45;6604492452388198149</title>\n",
       "<path fill=\"none\" stroke=\"black\" d=\"M984.08,-828.48C936.42,-838.44 876.57,-850.95 827.23,-861.26\"/>\n",
       "<polygon fill=\"black\" stroke=\"black\" points=\"826.78,-857.78 817.71,-863.25 828.21,-864.63 826.78,-857.78\"/>\n",
       "</g>\n",
       "</g>\n",
       "</svg>\n"
      ],
      "text/plain": [
       "<graphviz.graphs.Digraph at 0x232b7243890>"
      ]
     },
     "execution_count": 21,
     "metadata": {},
     "output_type": "execute_result"
    }
   ],
   "source": [
    "pickup_coord_data.visualize(tasks=False, filename=None)"
   ]
  },
  {
   "cell_type": "code",
   "execution_count": 22,
   "id": "9136a83e-c96d-400d-87c7-644be4aee245",
   "metadata": {},
   "outputs": [],
   "source": [
    "pickup_coord_data = df[[\"pickup_latitude\", \"pickup_longitude\"]].compute()"
   ]
  },
  {
   "cell_type": "code",
   "execution_count": 23,
   "id": "e5e6ddef-deeb-407b-8f9d-367a9211db61",
   "metadata": {},
   "outputs": [
    {
     "name": "stdout",
     "output_type": "stream",
     "text": [
      "Shape of the pickup coordinates data is (33234199, 2).\n"
     ]
    }
   ],
   "source": [
    "print(f\"Shape of the pickup coordinates data is {pickup_coord_data.shape}.\")"
   ]
  },
  {
   "cell_type": "code",
   "execution_count": 24,
   "id": "a59f2aac-e3b2-45a2-9f95-61ffd8fb5d9a",
   "metadata": {},
   "outputs": [
    {
     "data": {
      "text/html": [
       "<div>\n",
       "<style scoped>\n",
       "    .dataframe tbody tr th:only-of-type {\n",
       "        vertical-align: middle;\n",
       "    }\n",
       "\n",
       "    .dataframe tbody tr th {\n",
       "        vertical-align: top;\n",
       "    }\n",
       "\n",
       "    .dataframe thead th {\n",
       "        text-align: right;\n",
       "    }\n",
       "</style>\n",
       "<table border=\"1\" class=\"dataframe\">\n",
       "  <thead>\n",
       "    <tr style=\"text-align: right;\">\n",
       "      <th></th>\n",
       "      <th>pickup_latitude</th>\n",
       "      <th>pickup_longitude</th>\n",
       "    </tr>\n",
       "  </thead>\n",
       "  <tbody>\n",
       "    <tr>\n",
       "      <th>0</th>\n",
       "      <td>40.734695</td>\n",
       "      <td>-73.990372</td>\n",
       "    </tr>\n",
       "    <tr>\n",
       "      <th>1</th>\n",
       "      <td>40.729912</td>\n",
       "      <td>-73.980782</td>\n",
       "    </tr>\n",
       "    <tr>\n",
       "      <th>2</th>\n",
       "      <td>40.679565</td>\n",
       "      <td>-73.984550</td>\n",
       "    </tr>\n",
       "    <tr>\n",
       "      <th>3</th>\n",
       "      <td>40.718990</td>\n",
       "      <td>-73.993469</td>\n",
       "    </tr>\n",
       "    <tr>\n",
       "      <th>4</th>\n",
       "      <td>40.781330</td>\n",
       "      <td>-73.960625</td>\n",
       "    </tr>\n",
       "    <tr>\n",
       "      <th>...</th>\n",
       "      <td>...</td>\n",
       "      <td>...</td>\n",
       "    </tr>\n",
       "    <tr>\n",
       "      <th>420269</th>\n",
       "      <td>40.644451</td>\n",
       "      <td>-73.790565</td>\n",
       "    </tr>\n",
       "    <tr>\n",
       "      <th>420270</th>\n",
       "      <td>40.641483</td>\n",
       "      <td>-73.788055</td>\n",
       "    </tr>\n",
       "    <tr>\n",
       "      <th>420271</th>\n",
       "      <td>40.646736</td>\n",
       "      <td>-73.789154</td>\n",
       "    </tr>\n",
       "    <tr>\n",
       "      <th>420273</th>\n",
       "      <td>40.774471</td>\n",
       "      <td>-73.977356</td>\n",
       "    </tr>\n",
       "    <tr>\n",
       "      <th>420276</th>\n",
       "      <td>40.645096</td>\n",
       "      <td>-73.798485</td>\n",
       "    </tr>\n",
       "  </tbody>\n",
       "</table>\n",
       "<p>33234199 rows × 2 columns</p>\n",
       "</div>"
      ],
      "text/plain": [
       "        pickup_latitude  pickup_longitude\n",
       "0             40.734695        -73.990372\n",
       "1             40.729912        -73.980782\n",
       "2             40.679565        -73.984550\n",
       "3             40.718990        -73.993469\n",
       "4             40.781330        -73.960625\n",
       "...                 ...               ...\n",
       "420269        40.644451        -73.790565\n",
       "420270        40.641483        -73.788055\n",
       "420271        40.646736        -73.789154\n",
       "420273        40.774471        -73.977356\n",
       "420276        40.645096        -73.798485\n",
       "\n",
       "[33234199 rows x 2 columns]"
      ]
     },
     "execution_count": 24,
     "metadata": {},
     "output_type": "execute_result"
    }
   ],
   "source": [
    "pickup_coord_data"
   ]
  },
  {
   "cell_type": "code",
   "execution_count": 25,
   "id": "a1ed4d1a-7389-406d-9497-26407af838fb",
   "metadata": {},
   "outputs": [],
   "source": [
    "# pickup_coord_data.to_csv(INTERIM_DATA_PATH, index=False)"
   ]
  }
 ],
 "metadata": {
  "kernelspec": {
   "display_name": "Python 3 (ipykernel)",
   "language": "python",
   "name": "python3"
  },
  "language_info": {
   "codemirror_mode": {
    "name": "ipython",
    "version": 3
   },
   "file_extension": ".py",
   "mimetype": "text/x-python",
   "name": "python",
   "nbconvert_exporter": "python",
   "pygments_lexer": "ipython3",
   "version": "3.11.0"
  }
 },
 "nbformat": 4,
 "nbformat_minor": 5
}
